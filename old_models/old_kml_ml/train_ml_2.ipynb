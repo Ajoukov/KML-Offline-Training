{
 "cells": [
  {
   "cell_type": "code",
   "execution_count": 1,
   "metadata": {},
   "outputs": [
    {
     "name": "stderr",
     "output_type": "stream",
     "text": [
      "2024-05-09 21:05:11,824\tINFO util.py:154 -- Missing packages: ['ipywidgets']. Run `pip install -U ipywidgets`, then restart the notebook server for rich notebook output.\n",
      "2024-05-09 21:05:12,276\tINFO util.py:154 -- Missing packages: ['ipywidgets']. Run `pip install -U ipywidgets`, then restart the notebook server for rich notebook output.\n"
     ]
    },
    {
     "name": "stdout",
     "output_type": "stream",
     "text": [
      "64\n"
     ]
    }
   ],
   "source": [
    "import numpy as np\n",
    "import matplotlib.pyplot as plt\n",
    "import torch\n",
    "import scipy\n",
    "from scipy import stats\n",
    "from sklearn.utils import shuffle\n",
    "from matplotlib.lines import Line2D\n",
    "import os\n",
    "from ray import tune\n",
    "\n",
    "print(os.cpu_count())\n",
    "\n",
    "# workloads = [\"readseq\"]#, \"readrandomwriterandom\", \"mixgraph\", \"updaterandom\"] #[\"fileserver\", \"mixgraph\", \"oltp\", \"rwrandom\", \"readseq\", \"readwhilewriting\", \"varmail\", \"webserver\"]\n",
    "\n",
    "# accuracy as comparison of distribuitions\n",
    "# comparitive analysis against table base[HP], cart model[CMU], decision tree,\n",
    "# \n",
    "# -Plan-\n",
    "# Send decision tree graph\n",
    "# let's put latency in the buckets and predict the buckets\n",
    "# - powers of 2\n",
    "# - ?\n",
    "# differnt hw's\n",
    "    # mq-deadline ? setting all deadlines with predictions\n",
    "    # cache the I/O?\n",
    "    # accuracy is based not the class of buckets how far from correct bucket\n",
    "\n",
    "############### FEATURES ##################\n",
    "# 0. issue time to driver - inter-arrival time use it - time diff between two consecutive accesses\n",
    "# 1. operation type\n",
    "# 2. abs(LBA diffs)\n",
    "# 3. time diff between completions\n",
    "# 4. tag\n",
    "# 5. size - length of the I/O operation\n",
    "# 6. queue size\n",
    "# 7. Latency\n",
    "\n",
    "#-> Backtrack the decisions"
   ]
  },
  {
   "cell_type": "code",
   "execution_count": 2,
   "metadata": {},
   "outputs": [],
   "source": [
    "os.environ[\"CUDA_VISIBLE_DEVICES\"]=\"2\"\n",
    "os.environ[\"PYTORCH_CUDA_ALLOC_CONF\"]=\"expandable_segments:True\""
   ]
  },
  {
   "cell_type": "code",
   "execution_count": 3,
   "metadata": {},
   "outputs": [
    {
     "name": "stdout",
     "output_type": "stream",
     "text": [
      "True\n",
      "1\n"
     ]
    }
   ],
   "source": [
    "print(torch.cuda.is_available())\n",
    "print(torch.cuda.device_count())"
   ]
  },
  {
   "cell_type": "code",
   "execution_count": 4,
   "metadata": {},
   "outputs": [],
   "source": [
    "workloads = [\"readseq0\", \"readseq1\", \"readseq2\", \"readseq3\", \"readwhilewriting0\", \"readwhilewriting1\", \"readreverse0\", \"readrandomwriterandom0\", \"readrandom0\", \"mixgraph0\", \"fillseq0\", \"fillseq1\", \"fill100k0\", \"fill100k1\"]\n",
    "config = {\"lr\" : 0.01, \"momentum\" : 0.90}\n",
    "num_epoch = 50\n",
    "do_binary_classification = False"
   ]
  },
  {
   "cell_type": "code",
   "execution_count": 5,
   "metadata": {},
   "outputs": [],
   "source": [
    "experiments = {}\n",
    "for w in workloads:\n",
    "    # print(\"reading data for\", w)\n",
    "    data = np.loadtxt(\"data/\" + w + \".csv\",\n",
    "                      dtype=np.double, skiprows=1, delimiter=\",\")\n",
    "    experiments[w] = data"
   ]
  },
  {
   "cell_type": "code",
   "execution_count": 6,
   "metadata": {},
   "outputs": [],
   "source": [
    "data_all = experiments[workloads[0]]\n",
    "\n",
    "# duplicate data\n",
    "for i in range(len(workloads)):\n",
    "    data_temp = experiments[workloads[i]]\n",
    "    while len(data_temp) < 160000:\n",
    "        data_temp = np.concatenate((data_temp, experiments[workloads[i]]), axis=0)\n",
    "    data_all = np.concatenate((data_all, data_temp), axis=0)\n",
    "\n",
    "# combine other workloads (but only one time)\n",
    "# for index, w in enumerate(workloads):\n",
    "#     if (index == 0):\n",
    "#         continue\n",
    "#     print(w)\n",
    "#     print(data_all.shape)\n",
    "#     print(experiments[w].shape)\n",
    "#     data_all = np.concatenate((data_all, experiments[w]), axis=0)"
   ]
  },
  {
   "cell_type": "code",
   "execution_count": 7,
   "metadata": {},
   "outputs": [
    {
     "data": {
      "text/plain": [
       "(2863703, 8)"
      ]
     },
     "execution_count": 7,
     "metadata": {},
     "output_type": "execute_result"
    }
   ],
   "source": [
    "np.shape(data_all)"
   ]
  },
  {
   "cell_type": "code",
   "execution_count": 8,
   "metadata": {},
   "outputs": [],
   "source": [
    "# split data into input and output\n",
    "input = data_all[:,0:7]\n",
    "output = data_all[:,7]"
   ]
  },
  {
   "cell_type": "code",
   "execution_count": 10,
   "metadata": {},
   "outputs": [],
   "source": [
    "input = np.concatenate((input[:, 1:2], input[:, 4:7]), axis=1)"
   ]
  },
  {
   "cell_type": "code",
   "execution_count": 9,
   "metadata": {},
   "outputs": [
    {
     "name": "stdout",
     "output_type": "stream",
     "text": [
      "4.6644e-05 0.591229274\n"
     ]
    }
   ],
   "source": [
    "# get normalized input (output stays unnormalized)\n",
    "norm_input = stats.zscore(input, axis=0)\n",
    "\n",
    "print(min(output), max(output))\n",
    "output = output.reshape(-1, 1)\n",
    "\n",
    "norm_input, output, input = shuffle(norm_input, output, input)"
   ]
  },
  {
   "cell_type": "code",
   "execution_count": 10,
   "metadata": {},
   "outputs": [],
   "source": [
    "def np_out_csv(ar, name=None):\n",
    "    if name == None:\n",
    "        name = \"file\"\n",
    "    import pandas as pd\n",
    "    df = pd.DataFrame(ar)\n",
    "    df.to_csv(index=False, header=False, sep=\" \", path_or_buf=name + \".csv\", float_format=\"%015.6f\") #save to file"
   ]
  },
  {
   "cell_type": "code",
   "execution_count": 25,
   "metadata": {},
   "outputs": [],
   "source": [
    "# convert to one-hot encoding for operation\n",
    "# data_no_op = np.concatenate((norm_input[:, 0:1], norm_input[:, 2:7]), axis=1)\n",
    "# data_only_ops = np.zeros((len(data_no_op), 8))\n",
    "# for i in range(len(data_no_op)):\n",
    "#     data_only_ops[i,int(input[i,1])] = 1\n",
    "\n",
    "# norm_input = np.concatenate((data_no_op, data_only_ops), axis=1)\n"
   ]
  },
  {
   "cell_type": "code",
   "execution_count": 12,
   "metadata": {},
   "outputs": [],
   "source": [
    "# for i in range(len(input[0])):\n",
    "#     print(np.mean(input[:,i]))\n",
    "# for i in range(len(input[0])):\n",
    "    # print(np.std(input[:,i]))"
   ]
  },
  {
   "cell_type": "code",
   "execution_count": null,
   "metadata": {},
   "outputs": [],
   "source": [
    "'''\n",
    "\n",
    "training:\n",
    "    1) normalize\n",
    "    2) one-hot encoding for operations\n",
    "    3) multiply outputs by 1e9\n",
    "\n",
    "latency.c:\n",
    "    process_new_features:\n",
    "    1) normalize\n",
    "    2) make prediction\n",
    "    completed_request:\n",
    "    3) add back to prediction how many we subtracted (thus we get the actual prediction class in log2(time))\n",
    "    4) calculate actual prediction class in log2(time) by taking log of diff\n",
    "    5) write the prediction and actual\n",
    "\n",
    "parse.py:\n",
    "    Just parse the actual data. Don't make any modifications.\n",
    "'''"
   ]
  },
  {
   "cell_type": "code",
   "execution_count": 11,
   "metadata": {},
   "outputs": [
    {
     "name": "stderr",
     "output_type": "stream",
     "text": [
      "/tmp/ipykernel_2320258/765573451.py:7: DeprecationWarning: Conversion of an array with ndim > 0 to a scalar is deprecated, and will error in future. Ensure you extract a single element from your array before performing this operation. (Deprecated NumPy 1.25.)\n",
      "  print(int(math.log2(max(bin_output))), max(bin_output), max(output))\n"
     ]
    },
    {
     "name": "stdout",
     "output_type": "stream",
     "text": [
      "29 [5.91229274e+08] [0.59122927]\n"
     ]
    },
    {
     "name": "stderr",
     "output_type": "stream",
     "text": [
      "/tmp/ipykernel_2320258/765573451.py:10: DeprecationWarning: Conversion of an array with ndim > 0 to a scalar is deprecated, and will error in future. Ensure you extract a single element from your array before performing this operation. (Deprecated NumPy 1.25.)\n",
      "  bin_output[idx] = int(math.log2(o))\n"
     ]
    },
    {
     "name": "stdout",
     "output_type": "stream",
     "text": [
      "[15.] [29.]\n"
     ]
    },
    {
     "data": {
      "image/png": "[encoded data removed]",
      "text/plain": [
       "<Figure size 640x480 with 1 Axes>"
      ]
     },
     "metadata": {},
     "output_type": "display_data"
    }
   ],
   "source": [
    "import math\n",
    "import collections\n",
    "\n",
    "# convert to nanoseconds\n",
    "bin_output = output * 1e9\n",
    "\n",
    "print(int(math.log2(max(bin_output))), max(bin_output), max(output))\n",
    "\n",
    "for idx, o in enumerate(bin_output):\n",
    "    bin_output[idx] = int(math.log2(o))\n",
    "\n",
    "bin_output.reshape(-1, 1)\n",
    "print(min(bin_output), max(bin_output))\n",
    "# make minimum 0\n",
    "# make sure to add this difference back in later\n",
    "bin_output = bin_output - min(bin_output)\n",
    "\n",
    "#norm_input, bin_output, (norm_input_sub, bin_output_sub) = equalize_bins(norm_input, bin_output)\n",
    "cnt = collections.Counter(bin_output.ravel())\n",
    "\n",
    "bin_list = []\n",
    "for i in range(32):\n",
    "    bin_list.append(i)\n",
    "\n",
    "class_size = max(bin_output) - min(bin_output) + 1\n",
    "#plt.hist(bin_output, bins=range(0, int(max(cnt.keys())) + 2))\n",
    "plt.bar(cnt.keys(), cnt.values())\n",
    "plt.xticks(list(cnt.keys()))\n",
    "plt.title(\"Histogram of latency buckets\")\n",
    "plt.yscale(\"log\")\n",
    "plt.show()"
   ]
  },
  {
   "cell_type": "code",
   "execution_count": 12,
   "metadata": {},
   "outputs": [
    {
     "name": "stdout",
     "output_type": "stream",
     "text": [
      "(2863703, 7)\n",
      "(2863703, 1)\n"
     ]
    }
   ],
   "source": [
    "print(norm_input.shape)\n",
    "print(bin_output.shape)"
   ]
  },
  {
   "cell_type": "code",
   "execution_count": 13,
   "metadata": {},
   "outputs": [
    {
     "name": "stderr",
     "output_type": "stream",
     "text": [
      "/tmp/ipykernel_2320258/3464899621.py:1: DeprecationWarning: Conversion of an array with ndim > 0 to a scalar is deprecated, and will error in future. Ensure you extract a single element from your array before performing this operation. (Deprecated NumPy 1.25.)\n",
      "  buckets = [0] * int(class_size)\n",
      "/tmp/ipykernel_2320258/3464899621.py:4: DeprecationWarning: Conversion of an array with ndim > 0 to a scalar is deprecated, and will error in future. Ensure you extract a single element from your array before performing this operation. (Deprecated NumPy 1.25.)\n",
      "  buckets[int(bo)] = buckets[int(bo)] + 1\n"
     ]
    },
    {
     "name": "stdout",
     "output_type": "stream",
     "text": [
      "[57, 23253, 507770, 1226247, 465099, 99223, 489002, 12833, 5488, 8739, 8026, 6662, 6777, 4476, 51]\n",
      "[21513    52     2     1     2    12     2    95   223   140   152   184\n",
      "   180   273 24044]\n"
     ]
    }
   ],
   "source": [
    "buckets = [0] * int(class_size)\n",
    "\n",
    "for index, bo in enumerate(bin_output):\n",
    "    buckets[int(bo)] = buckets[int(bo)] + 1\n",
    "\n",
    "print(buckets)\n",
    "max_bo = max(buckets)\n",
    "\n",
    "buckets = np.array(buckets, dtype=np.float64)\n",
    "buckets /= max_bo\n",
    "buckets = 1.0 / buckets\n",
    "buckets = buckets.astype(np.int32)\n",
    "\n",
    "print(buckets)"
   ]
  },
  {
   "cell_type": "code",
   "execution_count": 14,
   "metadata": {},
   "outputs": [
    {
     "name": "stderr",
     "output_type": "stream",
     "text": [
      "/tmp/ipykernel_2320258/89968733.py:6: DeprecationWarning: Conversion of an array with ndim > 0 to a scalar is deprecated, and will error in future. Ensure you extract a single element from your array before performing this operation. (Deprecated NumPy 1.25.)\n",
      "  if (buckets[int(bo)] > 1):\n",
      "/tmp/ipykernel_2320258/89968733.py:7: DeprecationWarning: Conversion of an array with ndim > 0 to a scalar is deprecated, and will error in future. Ensure you extract a single element from your array before performing this operation. (Deprecated NumPy 1.25.)\n",
      "  for b in range(buckets[int(bo)] - 1):\n"
     ]
    }
   ],
   "source": [
    "copy_norm_input = []\n",
    "copy_bin_output = []\n",
    "copy_input = []\n",
    "\n",
    "for index, bo in enumerate(bin_output):\n",
    "    if (buckets[int(bo)] > 1):\n",
    "        for b in range(buckets[int(bo)] - 1):\n",
    "            copy_norm_input.append(norm_input[index])\n",
    "            copy_bin_output.append(bin_output[index])\n",
    "            copy_input.append(input[index])\n",
    "    else:\n",
    "        copy_norm_input.append(norm_input[index])\n",
    "        copy_bin_output.append(bin_output[index])\n",
    "        copy_input.append(input[index])\n",
    "\n",
    "norm_input = np.array(copy_norm_input)\n",
    "bin_output = np.array(copy_bin_output)\n",
    "input = np.array(copy_input)"
   ]
  },
  {
   "cell_type": "code",
   "execution_count": 15,
   "metadata": {},
   "outputs": [],
   "source": [
    "cnt2 = collections.Counter(bin_output.ravel())"
   ]
  },
  {
   "cell_type": "code",
   "execution_count": 16,
   "metadata": {},
   "outputs": [
    {
     "data": {
      "image/png": "[encoded data removed]",
      "text/plain": [
       "<Figure size 640x480 with 1 Axes>"
      ]
     },
     "metadata": {},
     "output_type": "display_data"
    }
   ],
   "source": [
    "plt.bar(cnt2.keys(), cnt2.values())\n",
    "plt.xticks(list(cnt.keys()))\n",
    "plt.title(\"Histogram of latency buckets\")\n",
    "plt.yscale(\"log\")\n",
    "plt.show()"
   ]
  },
  {
   "cell_type": "code",
   "execution_count": 17,
   "metadata": {},
   "outputs": [],
   "source": [
    "# Save old bin output incase we want to change split\n",
    "old_bin_output = bin_output"
   ]
  },
  {
   "cell_type": "code",
   "execution_count": 18,
   "metadata": {},
   "outputs": [],
   "source": [
    "if do_binary_classification:\n",
    "    bin_output = old_bin_output\n",
    "    print(np.unique(bin_output))\n",
    "    split = 4\n",
    "    bin_output_binary = np.zeros_like(bin_output)\n",
    "    for index, val in enumerate(bin_output):\n",
    "        bin_output_binary[index] = int(val > split)\n",
    "    bin_output = bin_output_binary\n",
    "    print(np.unique(bin_output))\n",
    "    percent_high = sum(bin_output)/len(bin_output)\n",
    "    print(percent_high)\n",
    "    naive_pred = max(percent_high, 1-percent_high) * 100"
   ]
  },
  {
   "cell_type": "code",
   "execution_count": 19,
   "metadata": {},
   "outputs": [],
   "source": [
    "import pickle\n",
    "\n",
    "def save_pickle(file, ap_path):\n",
    "  with open(ap_path, 'wb') as fp:\n",
    "    pickle.dump(file, fp)\n",
    "\n",
    "def load_pickle(ap_path):\n",
    "  with open(ap_path, 'rb') as fp:\n",
    "    return pickle.load(fp)"
   ]
  },
  {
   "cell_type": "code",
   "execution_count": null,
   "metadata": {},
   "outputs": [],
   "source": [
    "save_pickle(norm_input, \"norm_ipnut\")\n",
    "save_pickle(bin_output, \"bin_output\")"
   ]
  },
  {
   "cell_type": "code",
   "execution_count": 29,
   "metadata": {},
   "outputs": [],
   "source": [
    "from sklearn.model_selection import train_test_split\n",
    "input_train, input_test, bin_output_train, bin_output_test = train_test_split(norm_input, bin_output, test_size=0.33, random_state=42)"
   ]
  },
  {
   "cell_type": "code",
   "execution_count": 30,
   "metadata": {},
   "outputs": [],
   "source": [
    "class latencyPredictor(torch.nn.Module):\n",
    "    def __init__(self, inputSize, outputSize):\n",
    "        super(latencyPredictor, self).__init__()\n",
    "        self.layer_1 = torch.nn.Linear(inputSize, 512)\n",
    "        self.layer_2 = torch.nn.Linear(512, 128)\n",
    "        self.layer_3 = torch.nn.Linear(128, 64)\n",
    "        self.layer_out = torch.nn.Linear(64, outputSize)\n",
    "        \n",
    "        self.relu = torch.nn.Sigmoid()\n",
    "        # self.softmax = torch.nn.Softmax(dim=1)\n",
    "    \n",
    "    def forward(self, x):\n",
    "        x = self.layer_1(x)\n",
    "        x = self.relu(x)\n",
    "        \n",
    "        x = self.layer_2(x)\n",
    "        x = self.relu(x)\n",
    "        \n",
    "        x = self.layer_3(x)\n",
    "        x = self.relu(x)\n",
    "        \n",
    "        x = self.layer_out(x)\n",
    "        # added softmax to turn our results into preds\n",
    "        # x = self.softmax(x)\n",
    "        # Nevermind! We don't have access to a Softmax layer!\n",
    "        return x"
   ]
  },
  {
   "cell_type": "code",
   "execution_count": 31,
   "metadata": {},
   "outputs": [],
   "source": [
    "# use multiple gpu if available\n",
    "device = torch.device(\"cuda\" if torch.cuda.is_available() else \"cpu\")\n",
    "# device = torch.device(\"cpu\")"
   ]
  },
  {
   "cell_type": "code",
   "execution_count": 33,
   "metadata": {},
   "outputs": [],
   "source": [
    "state_dict2 = {}\n",
    "state_dict2[\"module.layer_1.weight\"] = state_dict[\"module.module.layer_1.weight\"]\n",
    "state_dict2[\"module.layer_2.weight\"] = state_dict[\"module.module.layer_2.weight\"]\n",
    "state_dict2[\"module.layer_3.weight\"] = state_dict[\"module.module.layer_3.weight\"]\n",
    "state_dict2[\"module.layer_out.weight\"] = state_dict[\"module.module.layer_out.weight\"]\n",
    "state_dict2[\"module.layer_1.bias\"] = state_dict[\"module.module.layer_1.bias\"]\n",
    "state_dict2[\"module.layer_2.bias\"] = state_dict[\"module.module.layer_2.bias\"]\n",
    "state_dict2[\"module.layer_3.bias\"] = state_dict[\"module.module.layer_3.bias\"]\n",
    "state_dict2[\"module.layer_out.bias\"] = state_dict[\"module.module.layer_out.bias\"]"
   ]
  },
  {
   "cell_type": "code",
   "execution_count": 34,
   "metadata": {},
   "outputs": [
    {
     "name": "stderr",
     "output_type": "stream",
     "text": [
      "/tmp/ipykernel_2319018/188429591.py:2: DeprecationWarning: Conversion of an array with ndim > 0 to a scalar is deprecated, and will error in future. Ensure you extract a single element from your array before performing this operation. (Deprecated NumPy 1.25.)\n",
      "  latencyPred = latencyPredictor(norm_input.shape[1], int(class_size))\n"
     ]
    },
    {
     "data": {
      "text/plain": [
       "DataParallel(\n",
       "  (module): latencyPredictor(\n",
       "    (layer_1): Linear(in_features=7, out_features=512, bias=True)\n",
       "    (layer_2): Linear(in_features=512, out_features=128, bias=True)\n",
       "    (layer_3): Linear(in_features=128, out_features=64, bias=True)\n",
       "    (layer_out): Linear(in_features=64, out_features=15, bias=True)\n",
       "    (relu): Sigmoid()\n",
       "  )\n",
       ")"
      ]
     },
     "execution_count": 34,
     "metadata": {},
     "output_type": "execute_result"
    }
   ],
   "source": [
    "# do this if you want to load a previous model\n",
    "latencyPred = latencyPredictor(norm_input.shape[1], int(class_size))\n",
    "latencyPred.double()\n",
    "latencyPred = torch.nn.DataParallel(latencyPred)\n",
    "latencyPred.to(device)\n",
    "state_dict = torch.load(\"saved/model.pt\")\n",
    "latencyPred.load_state_dict(state_dict2)\n",
    "torch.set_num_threads(os.cpu_count())\n",
    "latencyPred.train()"
   ]
  },
  {
   "cell_type": "code",
   "execution_count": 36,
   "metadata": {},
   "outputs": [
    {
     "data": {
      "text/plain": [
       "DataParallel(\n",
       "  (module): DataParallel(\n",
       "    (module): latencyPredictor(\n",
       "      (layer_1): Linear(in_features=7, out_features=512, bias=True)\n",
       "      (layer_2): Linear(in_features=512, out_features=128, bias=True)\n",
       "      (layer_3): Linear(in_features=128, out_features=64, bias=True)\n",
       "      (layer_out): Linear(in_features=64, out_features=15, bias=True)\n",
       "      (relu): Sigmoid()\n",
       "    )\n",
       "  )\n",
       ")"
      ]
     },
     "execution_count": 36,
     "metadata": {},
     "output_type": "execute_result"
    }
   ],
   "source": [
    "latencyPred.eval()"
   ]
  },
  {
   "cell_type": "code",
   "execution_count": 134,
   "metadata": {},
   "outputs": [
    {
     "name": "stdout",
     "output_type": "stream",
     "text": [
      "[15.]\n"
     ]
    },
    {
     "name": "stderr",
     "output_type": "stream",
     "text": [
      "/tmp/ipykernel_560873/1766825350.py:5: DeprecationWarning: Conversion of an array with ndim > 0 to a scalar is deprecated, and will error in future. Ensure you extract a single element from your array before performing this operation. (Deprecated NumPy 1.25.)\n",
      "  latencyPred = latencyPredictor(norm_input.shape[1], int(class_size))\n"
     ]
    }
   ],
   "source": [
    "# latencyPred = latencyPredictor(input.shape[1], 1)\n",
    "print(class_size)\n",
    "if do_binary_classification:\n",
    "    class_size = 2\n",
    "latencyPred = latencyPredictor(norm_input.shape[1], int(class_size))\n",
    "latencyPred.double()\n",
    "torch.set_num_threads(os.cpu_count())"
   ]
  },
  {
   "cell_type": "code",
   "execution_count": 35,
   "metadata": {},
   "outputs": [
    {
     "name": "stdout",
     "output_type": "stream",
     "text": [
      "cuda\n"
     ]
    },
    {
     "data": {
      "text/plain": [
       "DataParallel(\n",
       "  (module): DataParallel(\n",
       "    (module): latencyPredictor(\n",
       "      (layer_1): Linear(in_features=7, out_features=512, bias=True)\n",
       "      (layer_2): Linear(in_features=512, out_features=128, bias=True)\n",
       "      (layer_3): Linear(in_features=128, out_features=64, bias=True)\n",
       "      (layer_out): Linear(in_features=64, out_features=15, bias=True)\n",
       "      (relu): Sigmoid()\n",
       "    )\n",
       "  )\n",
       ")"
      ]
     },
     "execution_count": 35,
     "metadata": {},
     "output_type": "execute_result"
    }
   ],
   "source": [
    "# criterion = torch.nn.MSELoss()\n",
    "print(device)\n",
    "criterion = torch.nn.CrossEntropyLoss()\n",
    "latencyPred = torch.nn.DataParallel(latencyPred)\n",
    "optimizer = torch.optim.SGD(latencyPred.parameters(), lr=0.01, momentum=0.961)\n",
    "latencyPred.to(device)"
   ]
  },
  {
   "cell_type": "code",
   "execution_count": 26,
   "metadata": {},
   "outputs": [],
   "source": [
    "from IPython.display import clear_output\n",
    "\n",
    "def plot_loss(epochs, losses, tests, save):\n",
    "    clear_output(wait=True)\n",
    "    fig, ax1 = plt.subplots(figsize =(10, 4))\n",
    "    ax2 = ax1.twinx()\n",
    "    ax1.plot(epochs, losses, 'b-')\n",
    "    ax2.plot(epochs, tests, 'g-')\n",
    "    custom_lines = [Line2D([0], [0], color='b', lw=4),\n",
    "                Line2D([0], [0], color='g', lw=4)]\n",
    "    plt.legend(custom_lines, ['Loss', \"Accuracy\"])\n",
    "    if save:\n",
    "        plt.savefig(\"loss-acc.png\", dpi=200)\n",
    "    plt.show()\n",
    "\n",
    "def plot_all(epochs, losses, tests, correct_dist_idx, labels):\n",
    "    clear_output(wait=True)\n",
    "    fig, axs = plt.subplots(4,1,figsize =(10, 16))\n",
    "    ax2 = axs[0].twinx()\n",
    "    axs[0].plot(epochs, losses, 'b-')\n",
    "    ax2.plot(epochs, tests, 'g-')\n",
    "    \n",
    "    correct_dist = []\n",
    "    incorrect_dist = []\n",
    "    correct_ones = np.zeros(bin_output.shape[0], dtype = int)\n",
    "    incorrect_ones = np.zeros(bin_output.shape[0], dtype = int)\n",
    "    for idx, answer in enumerate(correct_dist_idx):\n",
    "        if (answer.item()):\n",
    "            correct_dist.append(int(labels[idx]))\n",
    "            correct_ones[int(labels[idx])] = correct_ones[int(labels[idx])] + 1\n",
    "        else:\n",
    "            incorrect_dist.append(int(labels[idx]))\n",
    "            incorrect_ones[int(labels[idx])] = incorrect_ones[int(labels[idx])] + 1\n",
    "    \n",
    "    correct_dist = np.array(correct_dist)\n",
    "    incorrect_dist = np.array(incorrect_dist)\n",
    "\n",
    "    print(len(correct_dist_idx), correct_dist.shape, incorrect_dist.shape)\n",
    "    print(correct_ones)\n",
    "    print(incorrect_ones)\n",
    "\n",
    "    bin_list = range(int(class_size))\n",
    "    axs[1].set_yscale(\"log\")\n",
    "    axs[1].hist(correct_dist, bin_list)\n",
    "    axs[2].set_yscale(\"log\")\n",
    "    axs[2].hist(incorrect_dist, bin_list)\n",
    "    axs[3].set_yscale(\"log\")\n",
    "    axs[3].hist(bin_output, bin_list)\n",
    "\n",
    "    plt.show()"
   ]
  },
  {
   "cell_type": "code",
   "execution_count": 37,
   "metadata": {},
   "outputs": [],
   "source": [
    "input_train = torch.DoubleTensor(input_train).to(device)\n",
    "# labels = torch.DoubleTensor(bin_output)\n",
    "bin_output_train = torch.LongTensor(bin_output_train).to(device)\n",
    "\n",
    "input_test = torch.DoubleTensor(input_test).to(device)\n",
    "bin_output_test = torch.LongTensor(bin_output_test).to(device)"
   ]
  },
  {
   "cell_type": "code",
   "execution_count": 28,
   "metadata": {},
   "outputs": [],
   "source": [
    "from matplotlib.pyplot import plot\n",
    "import collections.abc\n",
    "\n",
    "epochs = []\n",
    "losses = []\n",
    "tests = []\n",
    "\n",
    "batch_size = 1000\n",
    "\n",
    "\n",
    "for epoch in range(150): # 1000\n",
    "\n",
    "    batch_test = []\n",
    "    batch_loss = []\n",
    "\n",
    "    for batch in range(0, input_train.shape[0], batch_size):\n",
    "        labels = torch.squeeze(bin_output_train[batch:batch+batch_size].to(device))\n",
    "\n",
    "        optimizer.zero_grad()\n",
    "        outputs = latencyPred(input_train[batch:batch+batch_size].to(device))\n",
    "        #print(outputs.shape)\n",
    "        with torch.no_grad():\n",
    "            _, predictions = torch.max(outputs.data, 1)\n",
    "            predictions.to(device)\n",
    "            #print(\"Number of predicted classes: \", len(np.unique(predictions)))\n",
    "            num_correct = (predictions.to(\"cpu\") == labels.to(\"cpu\")).sum().item()\n",
    "\n",
    "            batch_test.append(num_correct / outputs.shape[0] * 100)\n",
    "            correct_dist_idx = (predictions == labels)\n",
    "\n",
    "        loss = criterion(outputs, labels)\n",
    "        batch_loss.append(loss.item())\n",
    "        loss.backward()\n",
    "        optimizer.step()\n",
    "\n",
    "    labels = torch.squeeze(bin_output_test)\n",
    "    outputs = latencyPred(input_test)\n",
    "    _, predictions = torch.max(outputs.data, 1)\n",
    "    predictions.to(device)\n",
    "    num_correct = (predictions.to(\"cpu\") == labels.to(\"cpu\")).sum().item()\n",
    "    test_acc = num_correct / outputs.shape[0] * 100\n",
    "\n",
    "    loss = criterion(outputs, labels)\n",
    "\n",
    "    epochs.append(epoch)\n",
    "    losses.append(loss.item())\n",
    "    tests.append(test_acc)\n",
    "    \n",
    "    plot_loss(epochs, losses, tests, epoch==num_epoch-1)\n",
    "\n",
    "    print('epoch {}, loss {}'.format(epoch, losses[-1]))\n",
    "    print('correct predictions {}'.format(tests[-1]))\n",
    "\n",
    "plot_all(epochs, losses, tests, correct_dist_idx, labels)\n",
    "np.save(\"saved/pred\", predictions.cpu())\n",
    "np.save(\"saved/label\", labels.cpu())\n",
    "\n",
    "torch.save(latencyPred.state_dict(), \"saved/model.pt\")\n",
    "\n",
    "print(f\"Final accuracy: {tests[-1]}%\")\n",
    "if do_binary_classification and tests[-1] > naive_pred:\n",
    "    print(f\"We do a lil bit of learning, {tests[-1] - naive_pred}\")"
   ]
  },
  {
   "cell_type": "code",
   "execution_count": 38,
   "metadata": {},
   "outputs": [
    {
     "ename": "OutOfMemoryError",
     "evalue": "CUDA out of memory. Tried to allocate 20.04 GiB. GPU 0 has a total capacity of 47.53 GiB of which 4.91 GiB is free. Process 2317924 has 41.40 GiB memory in use. Including non-PyTorch memory, this process has 1.21 GiB memory in use. Of the allocated memory 974.44 MiB is allocated by PyTorch, and 3.56 MiB is reserved by PyTorch but unallocated. If reserved but unallocated memory is large try setting PYTORCH_CUDA_ALLOC_CONF=expandable_segments:True to avoid fragmentation.  See documentation for Memory Management  (https://pytorch.org/docs/stable/notes/cuda.html#environment-variables)",
     "output_type": "error",
     "traceback": [
      "\u001b[0;31m---------------------------------------------------------------------------\u001b[0m",
      "\u001b[0;31mOutOfMemoryError\u001b[0m                          Traceback (most recent call last)",
      "Cell \u001b[0;32mIn[38], line 1\u001b[0m\n\u001b[0;32m----> 1\u001b[0m output_predictions \u001b[38;5;241m=\u001b[39m \u001b[43mlatencyPred\u001b[49m\u001b[43m(\u001b[49m\u001b[43minput_test\u001b[49m\u001b[43m)\u001b[49m\n\u001b[1;32m      2\u001b[0m soft_predictions \u001b[38;5;241m=\u001b[39m scipy\u001b[38;5;241m.\u001b[39mspecial\u001b[38;5;241m.\u001b[39msoftmax(output_predictions\u001b[38;5;241m.\u001b[39mcpu()\u001b[38;5;241m.\u001b[39mdetach()\u001b[38;5;241m.\u001b[39mnumpy(), axis\u001b[38;5;241m=\u001b[39m\u001b[38;5;241m1\u001b[39m)\n",
      "File \u001b[0;32m~/miniconda3/envs/model3/lib/python3.11/site-packages/torch/nn/modules/module.py:1511\u001b[0m, in \u001b[0;36mModule._wrapped_call_impl\u001b[0;34m(self, *args, **kwargs)\u001b[0m\n\u001b[1;32m   1509\u001b[0m     \u001b[38;5;28;01mreturn\u001b[39;00m \u001b[38;5;28mself\u001b[39m\u001b[38;5;241m.\u001b[39m_compiled_call_impl(\u001b[38;5;241m*\u001b[39margs, \u001b[38;5;241m*\u001b[39m\u001b[38;5;241m*\u001b[39mkwargs)  \u001b[38;5;66;03m# type: ignore[misc]\u001b[39;00m\n\u001b[1;32m   1510\u001b[0m \u001b[38;5;28;01melse\u001b[39;00m:\n\u001b[0;32m-> 1511\u001b[0m     \u001b[38;5;28;01mreturn\u001b[39;00m \u001b[38;5;28;43mself\u001b[39;49m\u001b[38;5;241;43m.\u001b[39;49m\u001b[43m_call_impl\u001b[49m\u001b[43m(\u001b[49m\u001b[38;5;241;43m*\u001b[39;49m\u001b[43margs\u001b[49m\u001b[43m,\u001b[49m\u001b[43m \u001b[49m\u001b[38;5;241;43m*\u001b[39;49m\u001b[38;5;241;43m*\u001b[39;49m\u001b[43mkwargs\u001b[49m\u001b[43m)\u001b[49m\n",
      "File \u001b[0;32m~/miniconda3/envs/model3/lib/python3.11/site-packages/torch/nn/modules/module.py:1520\u001b[0m, in \u001b[0;36mModule._call_impl\u001b[0;34m(self, *args, **kwargs)\u001b[0m\n\u001b[1;32m   1515\u001b[0m \u001b[38;5;66;03m# If we don't have any hooks, we want to skip the rest of the logic in\u001b[39;00m\n\u001b[1;32m   1516\u001b[0m \u001b[38;5;66;03m# this function, and just call forward.\u001b[39;00m\n\u001b[1;32m   1517\u001b[0m \u001b[38;5;28;01mif\u001b[39;00m \u001b[38;5;129;01mnot\u001b[39;00m (\u001b[38;5;28mself\u001b[39m\u001b[38;5;241m.\u001b[39m_backward_hooks \u001b[38;5;129;01mor\u001b[39;00m \u001b[38;5;28mself\u001b[39m\u001b[38;5;241m.\u001b[39m_backward_pre_hooks \u001b[38;5;129;01mor\u001b[39;00m \u001b[38;5;28mself\u001b[39m\u001b[38;5;241m.\u001b[39m_forward_hooks \u001b[38;5;129;01mor\u001b[39;00m \u001b[38;5;28mself\u001b[39m\u001b[38;5;241m.\u001b[39m_forward_pre_hooks\n\u001b[1;32m   1518\u001b[0m         \u001b[38;5;129;01mor\u001b[39;00m _global_backward_pre_hooks \u001b[38;5;129;01mor\u001b[39;00m _global_backward_hooks\n\u001b[1;32m   1519\u001b[0m         \u001b[38;5;129;01mor\u001b[39;00m _global_forward_hooks \u001b[38;5;129;01mor\u001b[39;00m _global_forward_pre_hooks):\n\u001b[0;32m-> 1520\u001b[0m     \u001b[38;5;28;01mreturn\u001b[39;00m \u001b[43mforward_call\u001b[49m\u001b[43m(\u001b[49m\u001b[38;5;241;43m*\u001b[39;49m\u001b[43margs\u001b[49m\u001b[43m,\u001b[49m\u001b[43m \u001b[49m\u001b[38;5;241;43m*\u001b[39;49m\u001b[38;5;241;43m*\u001b[39;49m\u001b[43mkwargs\u001b[49m\u001b[43m)\u001b[49m\n\u001b[1;32m   1522\u001b[0m \u001b[38;5;28;01mtry\u001b[39;00m:\n\u001b[1;32m   1523\u001b[0m     result \u001b[38;5;241m=\u001b[39m \u001b[38;5;28;01mNone\u001b[39;00m\n",
      "File \u001b[0;32m~/miniconda3/envs/model3/lib/python3.11/site-packages/torch/nn/parallel/data_parallel.py:183\u001b[0m, in \u001b[0;36mDataParallel.forward\u001b[0;34m(self, *inputs, **kwargs)\u001b[0m\n\u001b[1;32m    180\u001b[0m     module_kwargs \u001b[38;5;241m=\u001b[39m ({},)\n\u001b[1;32m    182\u001b[0m \u001b[38;5;28;01mif\u001b[39;00m \u001b[38;5;28mlen\u001b[39m(\u001b[38;5;28mself\u001b[39m\u001b[38;5;241m.\u001b[39mdevice_ids) \u001b[38;5;241m==\u001b[39m \u001b[38;5;241m1\u001b[39m:\n\u001b[0;32m--> 183\u001b[0m     \u001b[38;5;28;01mreturn\u001b[39;00m \u001b[38;5;28;43mself\u001b[39;49m\u001b[38;5;241;43m.\u001b[39;49m\u001b[43mmodule\u001b[49m\u001b[43m(\u001b[49m\u001b[38;5;241;43m*\u001b[39;49m\u001b[43minputs\u001b[49m\u001b[43m[\u001b[49m\u001b[38;5;241;43m0\u001b[39;49m\u001b[43m]\u001b[49m\u001b[43m,\u001b[49m\u001b[43m \u001b[49m\u001b[38;5;241;43m*\u001b[39;49m\u001b[38;5;241;43m*\u001b[39;49m\u001b[43mmodule_kwargs\u001b[49m\u001b[43m[\u001b[49m\u001b[38;5;241;43m0\u001b[39;49m\u001b[43m]\u001b[49m\u001b[43m)\u001b[49m\n\u001b[1;32m    184\u001b[0m replicas \u001b[38;5;241m=\u001b[39m \u001b[38;5;28mself\u001b[39m\u001b[38;5;241m.\u001b[39mreplicate(\u001b[38;5;28mself\u001b[39m\u001b[38;5;241m.\u001b[39mmodule, \u001b[38;5;28mself\u001b[39m\u001b[38;5;241m.\u001b[39mdevice_ids[:\u001b[38;5;28mlen\u001b[39m(inputs)])\n\u001b[1;32m    185\u001b[0m outputs \u001b[38;5;241m=\u001b[39m \u001b[38;5;28mself\u001b[39m\u001b[38;5;241m.\u001b[39mparallel_apply(replicas, inputs, module_kwargs)\n",
      "File \u001b[0;32m~/miniconda3/envs/model3/lib/python3.11/site-packages/torch/nn/modules/module.py:1511\u001b[0m, in \u001b[0;36mModule._wrapped_call_impl\u001b[0;34m(self, *args, **kwargs)\u001b[0m\n\u001b[1;32m   1509\u001b[0m     \u001b[38;5;28;01mreturn\u001b[39;00m \u001b[38;5;28mself\u001b[39m\u001b[38;5;241m.\u001b[39m_compiled_call_impl(\u001b[38;5;241m*\u001b[39margs, \u001b[38;5;241m*\u001b[39m\u001b[38;5;241m*\u001b[39mkwargs)  \u001b[38;5;66;03m# type: ignore[misc]\u001b[39;00m\n\u001b[1;32m   1510\u001b[0m \u001b[38;5;28;01melse\u001b[39;00m:\n\u001b[0;32m-> 1511\u001b[0m     \u001b[38;5;28;01mreturn\u001b[39;00m \u001b[38;5;28;43mself\u001b[39;49m\u001b[38;5;241;43m.\u001b[39;49m\u001b[43m_call_impl\u001b[49m\u001b[43m(\u001b[49m\u001b[38;5;241;43m*\u001b[39;49m\u001b[43margs\u001b[49m\u001b[43m,\u001b[49m\u001b[43m \u001b[49m\u001b[38;5;241;43m*\u001b[39;49m\u001b[38;5;241;43m*\u001b[39;49m\u001b[43mkwargs\u001b[49m\u001b[43m)\u001b[49m\n",
      "File \u001b[0;32m~/miniconda3/envs/model3/lib/python3.11/site-packages/torch/nn/modules/module.py:1520\u001b[0m, in \u001b[0;36mModule._call_impl\u001b[0;34m(self, *args, **kwargs)\u001b[0m\n\u001b[1;32m   1515\u001b[0m \u001b[38;5;66;03m# If we don't have any hooks, we want to skip the rest of the logic in\u001b[39;00m\n\u001b[1;32m   1516\u001b[0m \u001b[38;5;66;03m# this function, and just call forward.\u001b[39;00m\n\u001b[1;32m   1517\u001b[0m \u001b[38;5;28;01mif\u001b[39;00m \u001b[38;5;129;01mnot\u001b[39;00m (\u001b[38;5;28mself\u001b[39m\u001b[38;5;241m.\u001b[39m_backward_hooks \u001b[38;5;129;01mor\u001b[39;00m \u001b[38;5;28mself\u001b[39m\u001b[38;5;241m.\u001b[39m_backward_pre_hooks \u001b[38;5;129;01mor\u001b[39;00m \u001b[38;5;28mself\u001b[39m\u001b[38;5;241m.\u001b[39m_forward_hooks \u001b[38;5;129;01mor\u001b[39;00m \u001b[38;5;28mself\u001b[39m\u001b[38;5;241m.\u001b[39m_forward_pre_hooks\n\u001b[1;32m   1518\u001b[0m         \u001b[38;5;129;01mor\u001b[39;00m _global_backward_pre_hooks \u001b[38;5;129;01mor\u001b[39;00m _global_backward_hooks\n\u001b[1;32m   1519\u001b[0m         \u001b[38;5;129;01mor\u001b[39;00m _global_forward_hooks \u001b[38;5;129;01mor\u001b[39;00m _global_forward_pre_hooks):\n\u001b[0;32m-> 1520\u001b[0m     \u001b[38;5;28;01mreturn\u001b[39;00m \u001b[43mforward_call\u001b[49m\u001b[43m(\u001b[49m\u001b[38;5;241;43m*\u001b[39;49m\u001b[43margs\u001b[49m\u001b[43m,\u001b[49m\u001b[43m \u001b[49m\u001b[38;5;241;43m*\u001b[39;49m\u001b[38;5;241;43m*\u001b[39;49m\u001b[43mkwargs\u001b[49m\u001b[43m)\u001b[49m\n\u001b[1;32m   1522\u001b[0m \u001b[38;5;28;01mtry\u001b[39;00m:\n\u001b[1;32m   1523\u001b[0m     result \u001b[38;5;241m=\u001b[39m \u001b[38;5;28;01mNone\u001b[39;00m\n",
      "File \u001b[0;32m~/miniconda3/envs/model3/lib/python3.11/site-packages/torch/nn/parallel/data_parallel.py:183\u001b[0m, in \u001b[0;36mDataParallel.forward\u001b[0;34m(self, *inputs, **kwargs)\u001b[0m\n\u001b[1;32m    180\u001b[0m     module_kwargs \u001b[38;5;241m=\u001b[39m ({},)\n\u001b[1;32m    182\u001b[0m \u001b[38;5;28;01mif\u001b[39;00m \u001b[38;5;28mlen\u001b[39m(\u001b[38;5;28mself\u001b[39m\u001b[38;5;241m.\u001b[39mdevice_ids) \u001b[38;5;241m==\u001b[39m \u001b[38;5;241m1\u001b[39m:\n\u001b[0;32m--> 183\u001b[0m     \u001b[38;5;28;01mreturn\u001b[39;00m \u001b[38;5;28;43mself\u001b[39;49m\u001b[38;5;241;43m.\u001b[39;49m\u001b[43mmodule\u001b[49m\u001b[43m(\u001b[49m\u001b[38;5;241;43m*\u001b[39;49m\u001b[43minputs\u001b[49m\u001b[43m[\u001b[49m\u001b[38;5;241;43m0\u001b[39;49m\u001b[43m]\u001b[49m\u001b[43m,\u001b[49m\u001b[43m \u001b[49m\u001b[38;5;241;43m*\u001b[39;49m\u001b[38;5;241;43m*\u001b[39;49m\u001b[43mmodule_kwargs\u001b[49m\u001b[43m[\u001b[49m\u001b[38;5;241;43m0\u001b[39;49m\u001b[43m]\u001b[49m\u001b[43m)\u001b[49m\n\u001b[1;32m    184\u001b[0m replicas \u001b[38;5;241m=\u001b[39m \u001b[38;5;28mself\u001b[39m\u001b[38;5;241m.\u001b[39mreplicate(\u001b[38;5;28mself\u001b[39m\u001b[38;5;241m.\u001b[39mmodule, \u001b[38;5;28mself\u001b[39m\u001b[38;5;241m.\u001b[39mdevice_ids[:\u001b[38;5;28mlen\u001b[39m(inputs)])\n\u001b[1;32m    185\u001b[0m outputs \u001b[38;5;241m=\u001b[39m \u001b[38;5;28mself\u001b[39m\u001b[38;5;241m.\u001b[39mparallel_apply(replicas, inputs, module_kwargs)\n",
      "File \u001b[0;32m~/miniconda3/envs/model3/lib/python3.11/site-packages/torch/nn/modules/module.py:1511\u001b[0m, in \u001b[0;36mModule._wrapped_call_impl\u001b[0;34m(self, *args, **kwargs)\u001b[0m\n\u001b[1;32m   1509\u001b[0m     \u001b[38;5;28;01mreturn\u001b[39;00m \u001b[38;5;28mself\u001b[39m\u001b[38;5;241m.\u001b[39m_compiled_call_impl(\u001b[38;5;241m*\u001b[39margs, \u001b[38;5;241m*\u001b[39m\u001b[38;5;241m*\u001b[39mkwargs)  \u001b[38;5;66;03m# type: ignore[misc]\u001b[39;00m\n\u001b[1;32m   1510\u001b[0m \u001b[38;5;28;01melse\u001b[39;00m:\n\u001b[0;32m-> 1511\u001b[0m     \u001b[38;5;28;01mreturn\u001b[39;00m \u001b[38;5;28;43mself\u001b[39;49m\u001b[38;5;241;43m.\u001b[39;49m\u001b[43m_call_impl\u001b[49m\u001b[43m(\u001b[49m\u001b[38;5;241;43m*\u001b[39;49m\u001b[43margs\u001b[49m\u001b[43m,\u001b[49m\u001b[43m \u001b[49m\u001b[38;5;241;43m*\u001b[39;49m\u001b[38;5;241;43m*\u001b[39;49m\u001b[43mkwargs\u001b[49m\u001b[43m)\u001b[49m\n",
      "File \u001b[0;32m~/miniconda3/envs/model3/lib/python3.11/site-packages/torch/nn/modules/module.py:1520\u001b[0m, in \u001b[0;36mModule._call_impl\u001b[0;34m(self, *args, **kwargs)\u001b[0m\n\u001b[1;32m   1515\u001b[0m \u001b[38;5;66;03m# If we don't have any hooks, we want to skip the rest of the logic in\u001b[39;00m\n\u001b[1;32m   1516\u001b[0m \u001b[38;5;66;03m# this function, and just call forward.\u001b[39;00m\n\u001b[1;32m   1517\u001b[0m \u001b[38;5;28;01mif\u001b[39;00m \u001b[38;5;129;01mnot\u001b[39;00m (\u001b[38;5;28mself\u001b[39m\u001b[38;5;241m.\u001b[39m_backward_hooks \u001b[38;5;129;01mor\u001b[39;00m \u001b[38;5;28mself\u001b[39m\u001b[38;5;241m.\u001b[39m_backward_pre_hooks \u001b[38;5;129;01mor\u001b[39;00m \u001b[38;5;28mself\u001b[39m\u001b[38;5;241m.\u001b[39m_forward_hooks \u001b[38;5;129;01mor\u001b[39;00m \u001b[38;5;28mself\u001b[39m\u001b[38;5;241m.\u001b[39m_forward_pre_hooks\n\u001b[1;32m   1518\u001b[0m         \u001b[38;5;129;01mor\u001b[39;00m _global_backward_pre_hooks \u001b[38;5;129;01mor\u001b[39;00m _global_backward_hooks\n\u001b[1;32m   1519\u001b[0m         \u001b[38;5;129;01mor\u001b[39;00m _global_forward_hooks \u001b[38;5;129;01mor\u001b[39;00m _global_forward_pre_hooks):\n\u001b[0;32m-> 1520\u001b[0m     \u001b[38;5;28;01mreturn\u001b[39;00m \u001b[43mforward_call\u001b[49m\u001b[43m(\u001b[49m\u001b[38;5;241;43m*\u001b[39;49m\u001b[43margs\u001b[49m\u001b[43m,\u001b[49m\u001b[43m \u001b[49m\u001b[38;5;241;43m*\u001b[39;49m\u001b[38;5;241;43m*\u001b[39;49m\u001b[43mkwargs\u001b[49m\u001b[43m)\u001b[49m\n\u001b[1;32m   1522\u001b[0m \u001b[38;5;28;01mtry\u001b[39;00m:\n\u001b[1;32m   1523\u001b[0m     result \u001b[38;5;241m=\u001b[39m \u001b[38;5;28;01mNone\u001b[39;00m\n",
      "Cell \u001b[0;32mIn[30], line 13\u001b[0m, in \u001b[0;36mlatencyPredictor.forward\u001b[0;34m(self, x)\u001b[0m\n\u001b[1;32m     12\u001b[0m \u001b[38;5;28;01mdef\u001b[39;00m \u001b[38;5;21mforward\u001b[39m(\u001b[38;5;28mself\u001b[39m, x):\n\u001b[0;32m---> 13\u001b[0m     x \u001b[38;5;241m=\u001b[39m \u001b[38;5;28;43mself\u001b[39;49m\u001b[38;5;241;43m.\u001b[39;49m\u001b[43mlayer_1\u001b[49m\u001b[43m(\u001b[49m\u001b[43mx\u001b[49m\u001b[43m)\u001b[49m\n\u001b[1;32m     14\u001b[0m     x \u001b[38;5;241m=\u001b[39m \u001b[38;5;28mself\u001b[39m\u001b[38;5;241m.\u001b[39mrelu(x)\n\u001b[1;32m     16\u001b[0m     x \u001b[38;5;241m=\u001b[39m \u001b[38;5;28mself\u001b[39m\u001b[38;5;241m.\u001b[39mlayer_2(x)\n",
      "File \u001b[0;32m~/miniconda3/envs/model3/lib/python3.11/site-packages/torch/nn/modules/module.py:1511\u001b[0m, in \u001b[0;36mModule._wrapped_call_impl\u001b[0;34m(self, *args, **kwargs)\u001b[0m\n\u001b[1;32m   1509\u001b[0m     \u001b[38;5;28;01mreturn\u001b[39;00m \u001b[38;5;28mself\u001b[39m\u001b[38;5;241m.\u001b[39m_compiled_call_impl(\u001b[38;5;241m*\u001b[39margs, \u001b[38;5;241m*\u001b[39m\u001b[38;5;241m*\u001b[39mkwargs)  \u001b[38;5;66;03m# type: ignore[misc]\u001b[39;00m\n\u001b[1;32m   1510\u001b[0m \u001b[38;5;28;01melse\u001b[39;00m:\n\u001b[0;32m-> 1511\u001b[0m     \u001b[38;5;28;01mreturn\u001b[39;00m \u001b[38;5;28;43mself\u001b[39;49m\u001b[38;5;241;43m.\u001b[39;49m\u001b[43m_call_impl\u001b[49m\u001b[43m(\u001b[49m\u001b[38;5;241;43m*\u001b[39;49m\u001b[43margs\u001b[49m\u001b[43m,\u001b[49m\u001b[43m \u001b[49m\u001b[38;5;241;43m*\u001b[39;49m\u001b[38;5;241;43m*\u001b[39;49m\u001b[43mkwargs\u001b[49m\u001b[43m)\u001b[49m\n",
      "File \u001b[0;32m~/miniconda3/envs/model3/lib/python3.11/site-packages/torch/nn/modules/module.py:1520\u001b[0m, in \u001b[0;36mModule._call_impl\u001b[0;34m(self, *args, **kwargs)\u001b[0m\n\u001b[1;32m   1515\u001b[0m \u001b[38;5;66;03m# If we don't have any hooks, we want to skip the rest of the logic in\u001b[39;00m\n\u001b[1;32m   1516\u001b[0m \u001b[38;5;66;03m# this function, and just call forward.\u001b[39;00m\n\u001b[1;32m   1517\u001b[0m \u001b[38;5;28;01mif\u001b[39;00m \u001b[38;5;129;01mnot\u001b[39;00m (\u001b[38;5;28mself\u001b[39m\u001b[38;5;241m.\u001b[39m_backward_hooks \u001b[38;5;129;01mor\u001b[39;00m \u001b[38;5;28mself\u001b[39m\u001b[38;5;241m.\u001b[39m_backward_pre_hooks \u001b[38;5;129;01mor\u001b[39;00m \u001b[38;5;28mself\u001b[39m\u001b[38;5;241m.\u001b[39m_forward_hooks \u001b[38;5;129;01mor\u001b[39;00m \u001b[38;5;28mself\u001b[39m\u001b[38;5;241m.\u001b[39m_forward_pre_hooks\n\u001b[1;32m   1518\u001b[0m         \u001b[38;5;129;01mor\u001b[39;00m _global_backward_pre_hooks \u001b[38;5;129;01mor\u001b[39;00m _global_backward_hooks\n\u001b[1;32m   1519\u001b[0m         \u001b[38;5;129;01mor\u001b[39;00m _global_forward_hooks \u001b[38;5;129;01mor\u001b[39;00m _global_forward_pre_hooks):\n\u001b[0;32m-> 1520\u001b[0m     \u001b[38;5;28;01mreturn\u001b[39;00m \u001b[43mforward_call\u001b[49m\u001b[43m(\u001b[49m\u001b[38;5;241;43m*\u001b[39;49m\u001b[43margs\u001b[49m\u001b[43m,\u001b[49m\u001b[43m \u001b[49m\u001b[38;5;241;43m*\u001b[39;49m\u001b[38;5;241;43m*\u001b[39;49m\u001b[43mkwargs\u001b[49m\u001b[43m)\u001b[49m\n\u001b[1;32m   1522\u001b[0m \u001b[38;5;28;01mtry\u001b[39;00m:\n\u001b[1;32m   1523\u001b[0m     result \u001b[38;5;241m=\u001b[39m \u001b[38;5;28;01mNone\u001b[39;00m\n",
      "File \u001b[0;32m~/miniconda3/envs/model3/lib/python3.11/site-packages/torch/nn/modules/linear.py:116\u001b[0m, in \u001b[0;36mLinear.forward\u001b[0;34m(self, input)\u001b[0m\n\u001b[1;32m    115\u001b[0m \u001b[38;5;28;01mdef\u001b[39;00m \u001b[38;5;21mforward\u001b[39m(\u001b[38;5;28mself\u001b[39m, \u001b[38;5;28minput\u001b[39m: Tensor) \u001b[38;5;241m-\u001b[39m\u001b[38;5;241m>\u001b[39m Tensor:\n\u001b[0;32m--> 116\u001b[0m     \u001b[38;5;28;01mreturn\u001b[39;00m \u001b[43mF\u001b[49m\u001b[38;5;241;43m.\u001b[39;49m\u001b[43mlinear\u001b[49m\u001b[43m(\u001b[49m\u001b[38;5;28;43minput\u001b[39;49m\u001b[43m,\u001b[49m\u001b[43m \u001b[49m\u001b[38;5;28;43mself\u001b[39;49m\u001b[38;5;241;43m.\u001b[39;49m\u001b[43mweight\u001b[49m\u001b[43m,\u001b[49m\u001b[43m \u001b[49m\u001b[38;5;28;43mself\u001b[39;49m\u001b[38;5;241;43m.\u001b[39;49m\u001b[43mbias\u001b[49m\u001b[43m)\u001b[49m\n",
      "\u001b[0;31mOutOfMemoryError\u001b[0m: CUDA out of memory. Tried to allocate 20.04 GiB. GPU 0 has a total capacity of 47.53 GiB of which 4.91 GiB is free. Process 2317924 has 41.40 GiB memory in use. Including non-PyTorch memory, this process has 1.21 GiB memory in use. Of the allocated memory 974.44 MiB is allocated by PyTorch, and 3.56 MiB is reserved by PyTorch but unallocated. If reserved but unallocated memory is large try setting PYTORCH_CUDA_ALLOC_CONF=expandable_segments:True to avoid fragmentation.  See documentation for Memory Management  (https://pytorch.org/docs/stable/notes/cuda.html#environment-variables)"
     ]
    }
   ],
   "source": [
    "output_predictions = latencyPred(input_test)\n",
    "soft_predictions = scipy.special.softmax(output_predictions.cpu().detach().numpy(), axis=1)"
   ]
  },
  {
   "cell_type": "code",
   "execution_count": 28,
   "metadata": {},
   "outputs": [],
   "source": [
    "bin_predictions = [sum(i * value for i, value in enumerate(array)) for array in soft_predictions]\n",
    "bin_predictions = np.array(bin_predictions).astype(int)"
   ]
  },
  {
   "cell_type": "code",
   "execution_count": 29,
   "metadata": {},
   "outputs": [],
   "source": [
    "diffs = abs(bin_predictions - bin_output_test.cpu().detach().numpy().T)"
   ]
  },
  {
   "cell_type": "code",
   "execution_count": 31,
   "metadata": {},
   "outputs": [
    {
     "name": "stdout",
     "output_type": "stream",
     "text": [
      "0.6683818696238896\n",
      "1.4212972736515548\n",
      "1.1921817284506397\n",
      "0.5209042382981705\n"
     ]
    }
   ],
   "source": [
    "# 4-feature model using 33% to test from all workloads\n",
    "print(np.mean(diffs))\n",
    "print(np.mean(diffs**2))\n",
    "print(np.sqrt(np.mean(diffs**2)))\n",
    "print(np.mean(diffs == 0))"
   ]
  },
  {
   "cell_type": "code",
   "execution_count": 27,
   "metadata": {},
   "outputs": [
    {
     "data": {
      "text/plain": [
       "tensor([[ -6.5799,   3.9366,   4.4724,  ...,  -3.0395,  -4.5864, -14.2996],\n",
       "        [-12.3283,  -2.6147,   5.0100,  ...,  -2.8761,  -4.0050, -17.3142],\n",
       "        [ -6.3046,   1.4700,   4.2468,  ...,  -4.3976,  -4.5011, -16.6058],\n",
       "        ...,\n",
       "        [ -2.3788,  -1.9821,   2.4508,  ...,  -4.6448,  -6.0121, -19.0162],\n",
       "        [-11.1532,  -7.3834,   1.0462,  ...,  -5.0560,  -5.1637, -15.9855],\n",
       "        [ -2.3788,  -1.9821,   2.4508,  ...,  -4.6448,  -6.0121, -19.0162]],\n",
       "       dtype=torch.float64, grad_fn=<AddmmBackward0>)"
      ]
     },
     "execution_count": 27,
     "metadata": {},
     "output_type": "execute_result"
    }
   ],
   "source": [
    "latencyPred.eval()\n",
    "latencyPred(torch.DoubleTensor(norm_input))"
   ]
  },
  {
   "cell_type": "code",
   "execution_count": 28,
   "metadata": {},
   "outputs": [],
   "source": [
    "import pandas as pd\n",
    "\n",
    "def layers_to_csv(layer, num):\n",
    "    w_np = layer.cpu().state_dict()['weight'].numpy()\n",
    "    b_np = layer.cpu().state_dict()['bias'].numpy()\n",
    "    df = pd.DataFrame(w_np) #convert to a dataframe\n",
    "    df.to_csv(index=False, header=False, sep=\" \", path_or_buf=f\"torch_model_new/linear{num}_w.csv\", float_format=\"%015.6f\") #save to file\n",
    "    df = pd.DataFrame(b_np) #convert to a dataframe\n",
    "    df.to_csv(index=False, header=False, sep=\" \", path_or_buf=f\"torch_model_new/linear{num}_b.csv\", float_format=\"%015.6f\")"
   ]
  },
  {
   "cell_type": "code",
   "execution_count": 29,
   "metadata": {},
   "outputs": [],
   "source": [
    "layers_to_csv(latencyPred.module.layer_1, 0)\n",
    "layers_to_csv(latencyPred.module.layer_2, 1)\n",
    "layers_to_csv(latencyPred.module.layer_3, 2)\n",
    "layers_to_csv(latencyPred.module.layer_out, 3)"
   ]
  }
 ],
 "metadata": {
  "kernelspec": {
   "display_name": "Python 3",
   "language": "python",
   "name": "python3"
  },
  "language_info": {
   "codemirror_mode": {
    "name": "ipython",
    "version": 3
   },
   "file_extension": ".py",
   "mimetype": "text/x-python",
   "name": "python",
   "nbconvert_exporter": "python",
   "pygments_lexer": "ipython3",
   "version": "3.11.9"
  },
  "orig_nbformat": 4,
  "vscode": {
   "interpreter": {
    "hash": "e7370f93d1d0cde622a1f8e1c04877d8463912d04d973331ad4851f04de6915a"
   }
  }
 },
 "nbformat": 4,
 "nbformat_minor": 2
}
