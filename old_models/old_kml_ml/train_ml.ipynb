{
 "cells": [
  {
   "cell_type": "code",
   "execution_count": 1,
   "metadata": {},
   "outputs": [
    {
     "name": "stderr",
     "output_type": "stream",
     "text": [
      "2024-05-05 19:46:52,184\tINFO util.py:154 -- Missing packages: ['ipywidgets']. Run `pip install -U ipywidgets`, then restart the notebook server for rich notebook output.\n",
      "2024-05-05 19:46:52,616\tINFO util.py:154 -- Missing packages: ['ipywidgets']. Run `pip install -U ipywidgets`, then restart the notebook server for rich notebook output.\n"
     ]
    },
    {
     "name": "stdout",
     "output_type": "stream",
     "text": [
      "64\n"
     ]
    }
   ],
   "source": [
    "import torch\n",
    "import torch.nn as nn\n",
    "import torch.optim as optim\n",
    "import pandas as pd\n",
    "from sklearn.model_selection import train_test_split\n",
    "from sklearn.preprocessing import StandardScaler\n",
    "import numpy as np\n",
    "import os\n",
    "\n",
    "os.environ[\"CUDA_VISIBLE_DEVICES\"]=\"2\"\n",
    "print(torch.cuda.is_available())\n",
    "print(torch.cuda.device_count())\n",
    "\n",
    "# Check if CUDA is available\n",
    "device = torch.device(\"cuda\" if torch.cuda.is_available() else \"cpu\")\n",
    "print(f\"Using device: {device}\")\n",
    "\n",
    "# Define latency buckets with finer granularity\n",
    "def latency_to_bucket(latency):\n",
    "    return min(int(np.log2(latency) * 2), 29)  # 30 buckets\n",
    "\n",
    "# Load data\n",
    "data = pd.read_csv(\"io_latency.csv\")\n",
    "data.columns = ['sector', 'size', 'op', 'latency_us', 'pending_ios']\n",
    "\n",
    "# Features and target\n",
    "X = data[['sector', 'size', 'op', 'pending_ios']].values\n",
    "y = np.array([latency_to_bucket(latency) for latency in data['latency_us'].values])\n",
    "\n",
    "# Standardize the data\n",
    "scaler = StandardScaler()\n",
    "X = scaler.fit_transform(X)\n",
    "\n",
    "# Split data into train and test sets\n",
    "X_train, X_test, y_train, y_test = train_test_split(X, y, test_size=0.2, random_state=42)\n",
    "\n",
    "# Convert to torch tensors\n",
    "X_train = torch.tensor(X_train, dtype=torch.float32).to(device)\n",
    "X_test = torch.tensor(X_test, dtype=torch.float32).to(device)\n",
    "y_train = torch.tensor(y_train, dtype=torch.long).to(device)  # CrossEntropyLoss expects long dtype for targets\n",
    "y_test = torch.tensor(y_test, dtype=torch.long).to(device)\n",
    "\n",
    "# Define the neural network model\n",
    "class LatencyPredictor(nn.Module):\n",
    "    def __init__(self):\n",
    "        super(LatencyPredictor, self).__init__()\n",
    "        self.fc1 = nn.Linear(4, 64)\n",
    "        self.fc2 = nn.Linear(64, 32)\n",
    "        self.fc3 = nn.Linear(32, 30)  # 30 output classes (0 to 29)\n",
    "\n",
    "    def forward(self, x):\n",
    "        x = torch.relu(self.fc1(x))\n",
    "        x = torch.relu(self.fc2(x))\n",
    "        x = self.fc3(x)\n",
    "        return x\n",
    "\n",
    "# Create model instance and move it to the device\n",
    "model = LatencyPredictor().to(device)\n",
    "\n",
    "# Loss and optimizer\n",
    "criterion = nn.CrossEntropyLoss()\n",
    "optimizer = optim.Adam(model.parameters(), lr=0.001)\n",
    "\n",
    "# Training loop\n",
    "epochs = 10000\n",
    "for epoch in range(epochs):\n",
    "    model.train()\n",
    "    optimizer.zero_grad()\n",
    "    outputs = model(X_train)\n",
    "    loss = criterion(outputs, y_train)\n",
    "    loss.backward()\n",
    "    optimizer.step()\n",
    "\n",
    "    if (epoch+1) % (epochs // 10) == 0:\n",
    "        print(f'Epoch [{epoch+1}/{epochs}], Loss: {loss.item():.4f}')\n",
    "\n",
    "# Evaluation\n",
    "model.eval()\n",
    "with torch.no_grad():\n",
    "    predictions = model(X_test)\n",
    "    test_loss = criterion(predictions, y_test)\n",
    "    print(f'Test Loss: {test_loss.item():.4f}')\n",
    "\n",
    "    # Calculate accuracy\n",
    "    _, predicted_classes = torch.max(predictions, 1)\n",
    "    accuracy = (predicted_classes == y_test).float().mean()\n",
    "    print(f'Accuracy: {accuracy.item():.4f}')\n",
    "\n",
    "# Save the model\n",
    "torch.save(model.state_dict(), \"latency_predictor.pth\")\n",
    "print(\"Model saved to latency_predictor.pth\")\n"
   ]
  },
  {
   "cell_type": "code",
   "execution_count": 2,
   "metadata": {},
   "outputs": [],
   "source": [
    "os.environ[\"CUDA_VISIBLE_DEVICES\"]=\"2\""
   ]
  },
  {
   "cell_type": "code",
   "execution_count": 3,
   "metadata": {},
   "outputs": [
    {
     "name": "stdout",
     "output_type": "stream",
     "text": [
      "True\n",
      "1\n"
     ]
    }
   ],
   "source": [
    "print(torch.cuda.is_available())\n",
    "print(torch.cuda.device_count())"
   ]
  },
  {
   "cell_type": "code",
   "execution_count": 4,
   "metadata": {},
   "outputs": [],
   "source": [
    "workloads = [\"readseq0\", \"readseq1\", \"readseq2\", \"readseq3\", \"readwhilewriting0\", \"readwhilewriting1\", \"readreverse0\", \"readrandomwriterandom0\", \"readrandom0\", \"mixgraph0\", \"fillseq0\", \"fillseq1\", \"fill100k0\", \"fill100k1\"]\n",
    "config = {\"lr\" : 0.01, \"momentum\" : 0.90}\n",
    "num_epoch = 50\n",
    "do_binary_classification = False"
   ]
  },
  {
   "cell_type": "code",
   "execution_count": 5,
   "metadata": {},
   "outputs": [],
   "source": [
    "experiments = {}\n",
    "for w in workloads:\n",
    "    # print(\"reading data for\", w)\n",
    "    data = np.loadtxt(\"data/\" + w + \".csv\",\n",
    "                      dtype=np.double, skiprows=1, delimiter=\",\")\n",
    "    experiments[w] = data"
   ]
  },
  {
   "cell_type": "code",
   "execution_count": 6,
   "metadata": {},
   "outputs": [],
   "source": [
    "data_all = experiments[workloads[0]]\n",
    "\n",
    "# duplicate data\n",
    "for i in range(len(workloads)):\n",
    "    data_temp = experiments[workloads[i]]\n",
    "    while len(data_temp) < 160000:\n",
    "        data_temp = np.concatenate((data_temp, experiments[workloads[i]]), axis=0)\n",
    "    data_all = np.concatenate((data_all, data_temp), axis=0)\n",
    "\n",
    "# combine other workloads (but only one time)\n",
    "# for index, w in enumerate(workloads):\n",
    "#     if (index == 0):\n",
    "#         continue\n",
    "#     print(w)\n",
    "#     print(data_all.shape)\n",
    "#     print(experiments[w].shape)\n",
    "#     data_all = np.concatenate((data_all, experiments[w]), axis=0)"
   ]
  },
  {
   "cell_type": "code",
   "execution_count": 17,
   "metadata": {},
   "outputs": [
    {
     "data": {
      "text/plain": [
       "(2863703, 8)"
      ]
     },
     "execution_count": 17,
     "metadata": {},
     "output_type": "execute_result"
    }
   ],
   "source": [
    "np.shape(data_all)"
   ]
  },
  {
   "cell_type": "code",
   "execution_count": 7,
   "metadata": {},
   "outputs": [],
   "source": [
    "# split data into input and output\n",
    "input = data_all[:,0:7]\n",
    "output = data_all[:,7]"
   ]
  },
  {
   "cell_type": "code",
   "execution_count": 9,
   "metadata": {},
   "outputs": [],
   "source": [
    "input = np.concatenate((input[:, 1:2], input[:, 4:7]), axis=1)"
   ]
  },
  {
   "cell_type": "code",
   "execution_count": 8,
   "metadata": {},
   "outputs": [
    {
     "name": "stdout",
     "output_type": "stream",
     "text": [
      "4.6644e-05 0.591229274\n"
     ]
    }
   ],
   "source": [
    "# get normalized input (output stays unnormalized)\n",
    "norm_input = stats.zscore(input, axis=0)\n",
    "\n",
    "print(min(output), max(output))\n",
    "output = output.reshape(-1, 1)\n",
    "\n",
    "norm_input, output, input = shuffle(norm_input, output, input)"
   ]
  },
  {
   "cell_type": "code",
   "execution_count": 20,
   "metadata": {},
   "outputs": [],
   "source": [
    "def np_out_csv(ar, name=None):\n",
    "    if name == None:\n",
    "        name = \"file\"\n",
    "    import pandas as pd\n",
    "    df = pd.DataFrame(ar)\n",
    "    df.to_csv(index=False, header=False, sep=\" \", path_or_buf=name + \".csv\", float_format=\"%015.6f\") #save to file"
   ]
  },
  {
   "cell_type": "code",
   "execution_count": 25,
   "metadata": {},
   "outputs": [],
   "source": [
    "# convert to one-hot encoding for operation\n",
    "# data_no_op = np.concatenate((norm_input[:, 0:1], norm_input[:, 2:7]), axis=1)\n",
    "# data_only_ops = np.zeros((len(data_no_op), 8))\n",
    "# for i in range(len(data_no_op)):\n",
    "#     data_only_ops[i,int(input[i,1])] = 1\n",
    "\n",
    "# norm_input = np.concatenate((data_no_op, data_only_ops), axis=1)\n"
   ]
  },
  {
   "cell_type": "code",
   "execution_count": 12,
   "metadata": {},
   "outputs": [],
   "source": [
    "# for i in range(len(input[0])):\n",
    "#     print(np.mean(input[:,i]))\n",
    "# for i in range(len(input[0])):\n",
    "    # print(np.std(input[:,i]))"
   ]
  },
  {
   "cell_type": "code",
   "execution_count": null,
   "metadata": {},
   "outputs": [],
   "source": [
    "'''\n",
    "\n",
    "training:\n",
    "    1) normalize\n",
    "    2) one-hot encoding for operations\n",
    "    3) multiply outputs by 1e9\n",
    "\n",
    "latency.c:\n",
    "    process_new_features:\n",
    "    1) normalize\n",
    "    2) make prediction\n",
    "    completed_request:\n",
    "    3) add back to prediction how many we subtracted (thus we get the actual prediction class in log2(time))\n",
    "    4) calculate actual prediction class in log2(time) by taking log of diff\n",
    "    5) write the prediction and actual\n",
    "\n",
    "parse.py:\n",
    "    Just parse the actual data. Don't make any modifications.\n",
    "'''"
   ]
  },
  {
   "cell_type": "code",
   "execution_count": 9,
   "metadata": {},
   "outputs": [
    {
     "name": "stderr",
     "output_type": "stream",
     "text": [
      "/tmp/ipykernel_1519055/765573451.py:7: DeprecationWarning: Conversion of an array with ndim > 0 to a scalar is deprecated, and will error in future. Ensure you extract a single element from your array before performing this operation. (Deprecated NumPy 1.25.)\n",
      "  print(int(math.log2(max(bin_output))), max(bin_output), max(output))\n"
     ]
    },
    {
     "name": "stdout",
     "output_type": "stream",
     "text": [
      "29 [5.91229274e+08] [0.59122927]\n"
     ]
    },
    {
     "name": "stderr",
     "output_type": "stream",
     "text": [
      "/tmp/ipykernel_1519055/765573451.py:10: DeprecationWarning: Conversion of an array with ndim > 0 to a scalar is deprecated, and will error in future. Ensure you extract a single element from your array before performing this operation. (Deprecated NumPy 1.25.)\n",
      "  bin_output[idx] = int(math.log2(o))\n"
     ]
    },
    {
     "name": "stdout",
     "output_type": "stream",
     "text": [
      "[15.] [29.]\n"
     ]
    },
    {
     "data": {
      "image/png": "[encoded data removed]",
      "text/plain": [
       "<Figure size 640x480 with 1 Axes>"
      ]
     },
     "metadata": {},
     "output_type": "display_data"
    }
   ],
   "source": [
    "import math\n",
    "import collections\n",
    "\n",
    "# convert to nanoseconds\n",
    "bin_output = output * 1e9\n",
    "\n",
    "print(int(math.log2(max(bin_output))), max(bin_output), max(output))\n",
    "\n",
    "for idx, o in enumerate(bin_output):\n",
    "    bin_output[idx] = int(math.log2(o))\n",
    "\n",
    "bin_output.reshape(-1, 1)\n",
    "print(min(bin_output), max(bin_output))\n",
    "# make minimum 0\n",
    "# make sure to add this difference back in later\n",
    "bin_output = bin_output - min(bin_output)\n",
    "\n",
    "#norm_input, bin_output, (norm_input_sub, bin_output_sub) = equalize_bins(norm_input, bin_output)\n",
    "cnt = collections.Counter(bin_output.ravel())\n",
    "\n",
    "bin_list = []\n",
    "for i in range(32):\n",
    "    bin_list.append(i)\n",
    "\n",
    "class_size = max(bin_output) - min(bin_output) + 1\n",
    "#plt.hist(bin_output, bins=range(0, int(max(cnt.keys())) + 2))\n",
    "plt.bar(cnt.keys(), cnt.values())\n",
    "plt.xticks(list(cnt.keys()))\n",
    "plt.title(\"Histogram of latency buckets\")\n",
    "plt.yscale(\"log\")\n",
    "plt.show()"
   ]
  },
  {
   "cell_type": "code",
   "execution_count": 22,
   "metadata": {},
   "outputs": [
    {
     "name": "stdout",
     "output_type": "stream",
     "text": [
      "(2863703, 7)\n",
      "(2863703, 1)\n"
     ]
    }
   ],
   "source": [
    "print(norm_input.shape)\n",
    "print(bin_output.shape)"
   ]
  },
  {
   "cell_type": "code",
   "execution_count": 10,
   "metadata": {},
   "outputs": [
    {
     "name": "stderr",
     "output_type": "stream",
     "text": [
      "/tmp/ipykernel_1519055/3464899621.py:1: DeprecationWarning: Conversion of an array with ndim > 0 to a scalar is deprecated, and will error in future. Ensure you extract a single element from your array before performing this operation. (Deprecated NumPy 1.25.)\n",
      "  buckets = [0] * int(class_size)\n",
      "/tmp/ipykernel_1519055/3464899621.py:4: DeprecationWarning: Conversion of an array with ndim > 0 to a scalar is deprecated, and will error in future. Ensure you extract a single element from your array before performing this operation. (Deprecated NumPy 1.25.)\n",
      "  buckets[int(bo)] = buckets[int(bo)] + 1\n"
     ]
    },
    {
     "name": "stdout",
     "output_type": "stream",
     "text": [
      "[57, 23253, 507770, 1226247, 465099, 99223, 489002, 12833, 5488, 8739, 8026, 6662, 6777, 4476, 51]\n",
      "[21513    52     2     1     2    12     2    95   223   140   152   184\n",
      "   180   273 24044]\n"
     ]
    }
   ],
   "source": [
    "buckets = [0] * int(class_size)\n",
    "\n",
    "for index, bo in enumerate(bin_output):\n",
    "    buckets[int(bo)] = buckets[int(bo)] + 1\n",
    "\n",
    "print(buckets)\n",
    "max_bo = max(buckets)\n",
    "\n",
    "buckets = np.array(buckets, dtype=np.float64)\n",
    "buckets /= max_bo\n",
    "buckets = 1.0 / buckets\n",
    "buckets = buckets.astype(np.int32)\n",
    "\n",
    "print(buckets)"
   ]
  },
  {
   "cell_type": "code",
   "execution_count": 11,
   "metadata": {},
   "outputs": [
    {
     "name": "stderr",
     "output_type": "stream",
     "text": [
      "/tmp/ipykernel_1519055/89968733.py:6: DeprecationWarning: Conversion of an array with ndim > 0 to a scalar is deprecated, and will error in future. Ensure you extract a single element from your array before performing this operation. (Deprecated NumPy 1.25.)\n",
      "  if (buckets[int(bo)] > 1):\n",
      "/tmp/ipykernel_1519055/89968733.py:7: DeprecationWarning: Conversion of an array with ndim > 0 to a scalar is deprecated, and will error in future. Ensure you extract a single element from your array before performing this operation. (Deprecated NumPy 1.25.)\n",
      "  for b in range(buckets[int(bo)] - 1):\n"
     ]
    }
   ],
   "source": [
    "copy_norm_input = []\n",
    "copy_bin_output = []\n",
    "copy_input = []\n",
    "\n",
    "for index, bo in enumerate(bin_output):\n",
    "    if (buckets[int(bo)] > 1):\n",
    "        for b in range(buckets[int(bo)] - 1):\n",
    "            copy_norm_input.append(norm_input[index])\n",
    "            copy_bin_output.append(bin_output[index])\n",
    "            copy_input.append(input[index])\n",
    "    else:\n",
    "        copy_norm_input.append(norm_input[index])\n",
    "        copy_bin_output.append(bin_output[index])\n",
    "        copy_input.append(input[index])\n",
    "\n",
    "norm_input = np.array(copy_norm_input)\n",
    "bin_output = np.array(copy_bin_output)\n",
    "input = np.array(copy_input)"
   ]
  },
  {
   "cell_type": "code",
   "execution_count": 12,
   "metadata": {},
   "outputs": [],
   "source": [
    "cnt2 = collections.Counter(bin_output.ravel())"
   ]
  },
  {
   "cell_type": "code",
   "execution_count": 13,
   "metadata": {},
   "outputs": [
    {
     "data": {
      "image/png": "[encoded data removed]",
      "text/plain": [
       "<Figure size 640x480 with 1 Axes>"
      ]
     },
     "metadata": {},
     "output_type": "display_data"
    }
   ],
   "source": [
    "plt.bar(cnt2.keys(), cnt2.values())\n",
    "plt.xticks(list(cnt.keys()))\n",
    "plt.title(\"Histogram of latency buckets\")\n",
    "plt.yscale(\"log\")\n",
    "plt.show()"
   ]
  },
  {
   "cell_type": "code",
   "execution_count": 15,
   "metadata": {},
   "outputs": [],
   "source": [
    "# Save old bin output incase we want to change split\n",
    "old_bin_output = bin_output"
   ]
  },
  {
   "cell_type": "code",
   "execution_count": null,
   "metadata": {},
   "outputs": [],
   "source": [
    "if do_binary_classification:\n",
    "    bin_output = old_bin_output\n",
    "    print(np.unique(bin_output))\n",
    "    split = 4\n",
    "    bin_output_binary = np.zeros_like(bin_output)\n",
    "    for index, val in enumerate(bin_output):\n",
    "        bin_output_binary[index] = int(val > split)\n",
    "    bin_output = bin_output_binary\n",
    "    print(np.unique(bin_output))\n",
    "    percent_high = sum(bin_output)/len(bin_output)\n",
    "    print(percent_high)\n",
    "    naive_pred = max(percent_high, 1-percent_high) * 100"
   ]
  },
  {
   "cell_type": "code",
   "execution_count": null,
   "metadata": {},
   "outputs": [],
   "source": [
    "from sklearn.model_selection import train_test_split\n",
    "input_train, input_test, bin_output_train, bin_output_test = train_test_split(norm_input, bin_output, test_size=0.33, random_state=42)"
   ]
  },
  {
   "cell_type": "code",
   "execution_count": 13,
   "metadata": {},
   "outputs": [],
   "source": [
    "class latencyPredictor(torch.nn.Module):\n",
    "    def __init__(self, inputSize, outputSize):\n",
    "        super(latencyPredictor, self).__init__()\n",
    "        self.layer_1 = torch.nn.Linear(inputSize, 512)\n",
    "        self.layer_2 = torch.nn.Linear(512, 128)\n",
    "        self.layer_3 = torch.nn.Linear(128, 64)\n",
    "        self.layer_out = torch.nn.Linear(64, outputSize)\n",
    "        \n",
    "        self.relu = torch.nn.Sigmoid()\n",
    "        # self.softmax = torch.nn.Softmax(dim=1)\n",
    "    \n",
    "    def forward(self, x):\n",
    "        x = self.layer_1(x)\n",
    "        x = self.relu(x)\n",
    "        \n",
    "        x = self.layer_2(x)\n",
    "        x = self.relu(x)\n",
    "        \n",
    "        x = self.layer_3(x)\n",
    "        x = self.relu(x)\n",
    "        \n",
    "        x = self.layer_out(x)\n",
    "        # added softmax to turn our results into preds\n",
    "        # x = self.softmax(x)\n",
    "        # Nevermind! We don't have access to a Softmax layer!\n",
    "        return x"
   ]
  },
  {
   "cell_type": "code",
   "execution_count": 25,
   "metadata": {},
   "outputs": [],
   "source": [
    "# use multiple gpu if available\n",
    "device = torch.device(\"cuda\" if torch.cuda.is_available() else \"cpu\")\n",
    "# device = torch.device(\"cpu\")"
   ]
  },
  {
   "cell_type": "code",
   "execution_count": 38,
   "metadata": {},
   "outputs": [],
   "source": [
    "# state_dict2 = {}\n",
    "# state_dict2[\"module.layer_1.weight\"] = state_dict[\"module.module.layer_1.weight\"]\n",
    "# state_dict2[\"module.layer_2.weight\"] = state_dict[\"module.module.layer_2.weight\"]\n",
    "# state_dict2[\"module.layer_3.weight\"] = state_dict[\"module.module.layer_3.weight\"]\n",
    "# state_dict2[\"module.layer_out.weight\"] = state_dict[\"module.module.layer_out.weight\"]\n",
    "# state_dict2[\"module.layer_1.bias\"] = state_dict[\"module.module.layer_1.bias\"]\n",
    "# state_dict2[\"module.layer_2.bias\"] = state_dict[\"module.module.layer_2.bias\"]\n",
    "# state_dict2[\"module.layer_3.bias\"] = state_dict[\"module.module.layer_3.bias\"]\n",
    "# state_dict2[\"module.layer_out.bias\"] = state_dict[\"module.module.layer_out.bias\"]"
   ]
  },
  {
   "cell_type": "code",
   "execution_count": null,
   "metadata": {},
   "outputs": [
    {
     "name": "stderr",
     "output_type": "stream",
     "text": [
      "/tmp/ipykernel_1429213/188429591.py:2: DeprecationWarning: Conversion of an array with ndim > 0 to a scalar is deprecated, and will error in future. Ensure you extract a single element from your array before performing this operation. (Deprecated NumPy 1.25.)\n",
      "  latencyPred = latencyPredictor(norm_input.shape[1], int(class_size))\n"
     ]
    },
    {
     "data": {
      "text/plain": [
       "DataParallel(\n",
       "  (module): latencyPredictor(\n",
       "    (layer_1): Linear(in_features=7, out_features=512, bias=True)\n",
       "    (layer_2): Linear(in_features=512, out_features=128, bias=True)\n",
       "    (layer_3): Linear(in_features=128, out_features=64, bias=True)\n",
       "    (layer_out): Linear(in_features=64, out_features=15, bias=True)\n",
       "    (relu): Sigmoid()\n",
       "  )\n",
       ")"
      ]
     },
     "execution_count": 39,
     "metadata": {},
     "output_type": "execute_result"
    }
   ],
   "source": [
    "# do this if you want to load a previous model\n",
    "latencyPred = latencyPredictor(norm_input.shape[1], int(class_size))\n",
    "latencyPred.double()\n",
    "latencyPred = torch.nn.DataParallel(latencyPred)\n",
    "latencyPred.to(device)\n",
    "state_dict = torch.load(\"saved/model.pt\")\n",
    "latencyPred.load_state_dict(state_dict)\n",
    "torch.set_num_threads(os.cpu_count())\n",
    "latencyPred.train()"
   ]
  },
  {
   "cell_type": "code",
   "execution_count": 24,
   "metadata": {},
   "outputs": [
    {
     "data": {
      "text/plain": [
       "DataParallel(\n",
       "  (module): latencyPredictor(\n",
       "    (layer_1): Linear(in_features=7, out_features=512, bias=True)\n",
       "    (layer_2): Linear(in_features=512, out_features=128, bias=True)\n",
       "    (layer_3): Linear(in_features=128, out_features=64, bias=True)\n",
       "    (layer_out): Linear(in_features=64, out_features=15, bias=True)\n",
       "    (relu): Sigmoid()\n",
       "  )\n",
       ")"
      ]
     },
     "execution_count": 24,
     "metadata": {},
     "output_type": "execute_result"
    }
   ],
   "source": [
    "latencyPred.eval()"
   ]
  },
  {
   "cell_type": "code",
   "execution_count": 134,
   "metadata": {},
   "outputs": [
    {
     "name": "stdout",
     "output_type": "stream",
     "text": [
      "[15.]\n"
     ]
    },
    {
     "name": "stderr",
     "output_type": "stream",
     "text": [
      "/tmp/ipykernel_560873/1766825350.py:5: DeprecationWarning: Conversion of an array with ndim > 0 to a scalar is deprecated, and will error in future. Ensure you extract a single element from your array before performing this operation. (Deprecated NumPy 1.25.)\n",
      "  latencyPred = latencyPredictor(norm_input.shape[1], int(class_size))\n"
     ]
    }
   ],
   "source": [
    "# latencyPred = latencyPredictor(input.shape[1], 1)\n",
    "print(class_size)\n",
    "if do_binary_classification:\n",
    "    class_size = 2\n",
    "latencyPred = latencyPredictor(norm_input.shape[1], int(class_size))\n",
    "latencyPred.double()\n",
    "torch.set_num_threads(os.cpu_count())"
   ]
  },
  {
   "cell_type": "code",
   "execution_count": 40,
   "metadata": {},
   "outputs": [
    {
     "name": "stdout",
     "output_type": "stream",
     "text": [
      "cuda\n"
     ]
    },
    {
     "data": {
      "text/plain": [
       "DataParallel(\n",
       "  (module): DataParallel(\n",
       "    (module): latencyPredictor(\n",
       "      (layer_1): Linear(in_features=7, out_features=512, bias=True)\n",
       "      (layer_2): Linear(in_features=512, out_features=128, bias=True)\n",
       "      (layer_3): Linear(in_features=128, out_features=64, bias=True)\n",
       "      (layer_out): Linear(in_features=64, out_features=15, bias=True)\n",
       "      (relu): Sigmoid()\n",
       "    )\n",
       "  )\n",
       ")"
      ]
     },
     "execution_count": 40,
     "metadata": {},
     "output_type": "execute_result"
    }
   ],
   "source": [
    "# criterion = torch.nn.MSELoss()\n",
    "print(device)\n",
    "criterion = torch.nn.CrossEntropyLoss()\n",
    "latencyPred = torch.nn.DataParallel(latencyPred)\n",
    "optimizer = torch.optim.SGD(latencyPred.parameters(), lr=0.01, momentum=0.961)\n",
    "latencyPred.to(device)"
   ]
  },
  {
   "cell_type": "code",
   "execution_count": 41,
   "metadata": {},
   "outputs": [],
   "source": [
    "from IPython.display import clear_output\n",
    "\n",
    "def plot_loss(epochs, losses, tests, save):\n",
    "    clear_output(wait=True)\n",
    "    fig, ax1 = plt.subplots(figsize =(10, 4))\n",
    "    ax2 = ax1.twinx()\n",
    "    ax1.plot(epochs, losses, 'b-')\n",
    "    ax2.plot(epochs, tests, 'g-')\n",
    "    custom_lines = [Line2D([0], [0], color='b', lw=4),\n",
    "                Line2D([0], [0], color='g', lw=4)]\n",
    "    plt.legend(custom_lines, ['Loss', \"Accuracy\"])\n",
    "    if save:\n",
    "        plt.savefig(\"loss-acc.png\", dpi=200)\n",
    "    plt.show()\n",
    "\n",
    "def plot_all(epochs, losses, tests, correct_dist_idx, labels):\n",
    "    clear_output(wait=True)\n",
    "    fig, axs = plt.subplots(4,1,figsize =(10, 16))\n",
    "    ax2 = axs[0].twinx()\n",
    "    axs[0].plot(epochs, losses, 'b-')\n",
    "    ax2.plot(epochs, tests, 'g-')\n",
    "    \n",
    "    correct_dist = []\n",
    "    incorrect_dist = []\n",
    "    correct_ones = np.zeros(bin_output.shape[0], dtype = int)\n",
    "    incorrect_ones = np.zeros(bin_output.shape[0], dtype = int)\n",
    "    for idx, answer in enumerate(correct_dist_idx):\n",
    "        if (answer.item()):\n",
    "            correct_dist.append(int(labels[idx]))\n",
    "            correct_ones[int(labels[idx])] = correct_ones[int(labels[idx])] + 1\n",
    "        else:\n",
    "            incorrect_dist.append(int(labels[idx]))\n",
    "            incorrect_ones[int(labels[idx])] = incorrect_ones[int(labels[idx])] + 1\n",
    "    \n",
    "    correct_dist = np.array(correct_dist)\n",
    "    incorrect_dist = np.array(incorrect_dist)\n",
    "\n",
    "    print(len(correct_dist_idx), correct_dist.shape, incorrect_dist.shape)\n",
    "    print(correct_ones)\n",
    "    print(incorrect_ones)\n",
    "\n",
    "    bin_list = range(int(class_size))\n",
    "    axs[1].set_yscale(\"log\")\n",
    "    axs[1].hist(correct_dist, bin_list)\n",
    "    axs[2].set_yscale(\"log\")\n",
    "    axs[2].hist(incorrect_dist, bin_list)\n",
    "    axs[3].set_yscale(\"log\")\n",
    "    axs[3].hist(bin_output, bin_list)\n",
    "\n",
    "    plt.show()"
   ]
  },
  {
   "cell_type": "code",
   "execution_count": 42,
   "metadata": {},
   "outputs": [],
   "source": [
    "input_train = torch.DoubleTensor(input_train).to(device)\n",
    "# labels = torch.DoubleTensor(bin_output)\n",
    "bin_output_train = torch.LongTensor(bin_output_train).to(device)\n",
    "\n",
    "input_test = torch.DoubleTensor(input_test).to(device)\n",
    "bin_output_test = torch.LongTensor(bin_output_test).to(device)"
   ]
  },
  {
   "cell_type": "code",
   "execution_count": null,
   "metadata": {},
   "outputs": [
    {
     "name": "stdout",
     "output_type": "stream",
     "text": [
      "620 (522,) (98,)\n",
      "[38 40 19 ...  0  0  0]\n",
      "[8 9 3 ... 0 0 0]\n"
     ]
    },
    {
     "name": "stderr",
     "output_type": "stream",
     "text": [
      "/tmp/ipykernel_1429213/240716812.py:42: DeprecationWarning: Conversion of an array with ndim > 0 to a scalar is deprecated, and will error in future. Ensure you extract a single element from your array before performing this operation. (Deprecated NumPy 1.25.)\n",
      "  bin_list = range(int(class_size))\n"
     ]
    },
    {
     "data": {
      "image/png": "[encoded data removed]",
      "text/plain": [
       "<Figure size 1000x1600 with 5 Axes>"
      ]
     },
     "metadata": {},
     "output_type": "display_data"
    },
    {
     "name": "stdout",
     "output_type": "stream",
     "text": [
      "Final accuracy: 83.40833816687946%\n"
     ]
    }
   ],
   "source": [
    "from matplotlib.pyplot import plot\n",
    "import collections.abc\n",
    "\n",
    "epochs = []\n",
    "losses = []\n",
    "tests = []\n",
    "\n",
    "batch_size = 1000\n",
    "\n",
    "\n",
    "for epoch in range(300): # 1000\n",
    "\n",
    "    batch_test = []\n",
    "    batch_loss = []\n",
    "\n",
    "    for batch in range(0, input_train.shape[0], batch_size):\n",
    "        labels = torch.squeeze(bin_output_train[batch:batch+batch_size].to(device))\n",
    "\n",
    "        optimizer.zero_grad()\n",
    "        outputs = latencyPred(input_train[batch:batch+batch_size].to(device))\n",
    "        #print(outputs.shape)\n",
    "        with torch.no_grad():\n",
    "            _, predictions = torch.max(outputs.data, 1)\n",
    "            predictions.to(device)\n",
    "            #print(\"Number of predicted classes: \", len(np.unique(predictions)))\n",
    "            num_correct = (predictions.to(\"cpu\") == labels.to(\"cpu\")).sum().item()\n",
    "\n",
    "            batch_test.append(num_correct / outputs.shape[0] * 100)\n",
    "            correct_dist_idx = (predictions == labels)\n",
    "\n",
    "        loss = criterion(outputs, labels)\n",
    "        batch_loss.append(loss.item())\n",
    "        loss.backward()\n",
    "        optimizer.step()\n",
    "\n",
    "    labels = torch.squeeze(bin_output_test)\n",
    "    outputs = latencyPred(input_test)\n",
    "    _, predictions = torch.max(outputs.data, 1)\n",
    "    predictions.to(device)\n",
    "    num_correct = (predictions.to(\"cpu\") == labels.to(\"cpu\")).sum().item()\n",
    "    test_acc = num_correct / outputs.shape[0] * 100\n",
    "\n",
    "    loss = criterion(outputs, labels)\n",
    "\n",
    "    epochs.append(epoch)\n",
    "    losses.append(loss.item())\n",
    "    tests.append(test_acc)\n",
    "    \n",
    "    plot_loss(epochs, losses, tests, epoch==num_epoch-1)\n",
    "\n",
    "    print('epoch {}, loss {}'.format(epoch, losses[-1]))\n",
    "    print('correct predictions {}'.format(tests[-1]))\n",
    "\n",
    "plot_all(epochs, losses, tests, correct_dist_idx, labels)\n",
    "np.save(\"saved/pred\", predictions.cpu())\n",
    "np.save(\"saved/label\", labels.cpu())\n",
    "\n",
    "torch.save(latencyPred.state_dict(), \"saved/model.pt\")\n",
    "\n",
    "print(f\"Final accuracy: {tests[-1]}%\")\n",
    "if do_binary_classification and tests[-1] > naive_pred:\n",
    "    print(f\"We do a lil bit of learning, {tests[-1] - naive_pred}\")"
   ]
  },
  {
   "cell_type": "code",
   "execution_count": 27,
   "metadata": {},
   "outputs": [],
   "source": [
    "output_predictions = latencyPred(input_test)\n",
    "soft_predictions = scipy.special.softmax(output_predictions.cpu().detach().numpy(), axis=1)"
   ]
  },
  {
   "cell_type": "code",
   "execution_count": 28,
   "metadata": {},
   "outputs": [],
   "source": [
    "bin_predictions = [sum(i * value for i, value in enumerate(array)) for array in soft_predictions]\n",
    "bin_predictions = np.array(bin_predictions).astype(int)"
   ]
  },
  {
   "cell_type": "code",
   "execution_count": 29,
   "metadata": {},
   "outputs": [],
   "source": [
    "diffs = abs(bin_predictions - bin_output_test.cpu().detach().numpy().T)"
   ]
  },
  {
   "cell_type": "code",
   "execution_count": 31,
   "metadata": {},
   "outputs": [
    {
     "name": "stdout",
     "output_type": "stream",
     "text": [
      "0.6683818696238896\n",
      "1.4212972736515548\n",
      "1.1921817284506397\n",
      "0.5209042382981705\n"
     ]
    }
   ],
   "source": [
    "# 4-feature model using 33% to test from all workloads\n",
    "print(np.mean(diffs))\n",
    "print(np.mean(diffs**2))\n",
    "print(np.sqrt(np.mean(diffs**2)))\n",
    "print(np.mean(diffs == 0))"
   ]
  },
  {
   "cell_type": "code",
   "execution_count": 27,
   "metadata": {},
   "outputs": [
    {
     "data": {
      "text/plain": [
       "tensor([[ -6.5799,   3.9366,   4.4724,  ...,  -3.0395,  -4.5864, -14.2996],\n",
       "        [-12.3283,  -2.6147,   5.0100,  ...,  -2.8761,  -4.0050, -17.3142],\n",
       "        [ -6.3046,   1.4700,   4.2468,  ...,  -4.3976,  -4.5011, -16.6058],\n",
       "        ...,\n",
       "        [ -2.3788,  -1.9821,   2.4508,  ...,  -4.6448,  -6.0121, -19.0162],\n",
       "        [-11.1532,  -7.3834,   1.0462,  ...,  -5.0560,  -5.1637, -15.9855],\n",
       "        [ -2.3788,  -1.9821,   2.4508,  ...,  -4.6448,  -6.0121, -19.0162]],\n",
       "       dtype=torch.float64, grad_fn=<AddmmBackward0>)"
      ]
     },
     "execution_count": 27,
     "metadata": {},
     "output_type": "execute_result"
    }
   ],
   "source": [
    "latencyPred.eval()\n",
    "latencyPred(torch.DoubleTensor(norm_input))"
   ]
  },
  {
   "cell_type": "code",
   "execution_count": 28,
   "metadata": {},
   "outputs": [],
   "source": [
    "import pandas as pd\n",
    "\n",
    "def layers_to_csv(layer, num):\n",
    "    w_np = layer.cpu().state_dict()['weight'].numpy()\n",
    "    b_np = layer.cpu().state_dict()['bias'].numpy()\n",
    "    df = pd.DataFrame(w_np) #convert to a dataframe\n",
    "    df.to_csv(index=False, header=False, sep=\" \", path_or_buf=f\"torch_model_new/linear{num}_w.csv\", float_format=\"%015.6f\") #save to file\n",
    "    df = pd.DataFrame(b_np) #convert to a dataframe\n",
    "    df.to_csv(index=False, header=False, sep=\" \", path_or_buf=f\"torch_model_new/linear{num}_b.csv\", float_format=\"%015.6f\")"
   ]
  },
  {
   "cell_type": "code",
   "execution_count": 29,
   "metadata": {},
   "outputs": [],
   "source": [
    "layers_to_csv(latencyPred.module.layer_1, 0)\n",
    "layers_to_csv(latencyPred.module.layer_2, 1)\n",
    "layers_to_csv(latencyPred.module.layer_3, 2)\n",
    "layers_to_csv(latencyPred.module.layer_out, 3)"
   ]
  }
 ],
 "metadata": {
  "kernelspec": {
   "display_name": "Python 3",
   "language": "python",
   "name": "python3"
  },
  "language_info": {
   "codemirror_mode": {
    "name": "ipython",
    "version": 3
   },
   "file_extension": ".py",
   "mimetype": "text/x-python",
   "name": "python",
   "nbconvert_exporter": "python",
   "pygments_lexer": "ipython3",
   "version": "3.1.-1"
  },
  "orig_nbformat": 4,
  "vscode": {
   "interpreter": {
    "hash": "e7370f93d1d0cde622a1f8e1c04877d8463912d04d973331ad4851f04de6915a"
   }
  }
 },
 "nbformat": 4,
 "nbformat_minor": 2
}
